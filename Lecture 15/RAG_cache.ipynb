{
 "cells": [
  {
   "cell_type": "code",
   "execution_count": null,
   "metadata": {},
   "outputs": [],
   "source": [
    "import langchain\n",
    "from langchain.embeddings import CacheBackedEmbeddings,HuggingFaceEmbeddings\n",
    "from langchain.vectorstores import FAISS\n",
    "from langchain.storage import LocalFileStore\n",
    "from langchain.retrievers import BM25Retriever,EnsembleRetriever\n",
    "from langchain.document_loaders import PyPDFLoader,DirectoryLoader\n",
    "from langchain.llms import HuggingFacePipeline\n",
    "from langchain.cache import InMemoryCache\n",
    "from langchain.chains import RetrievalQA\n",
    "from langchain.callbacks import StdOutCallbackHandler\n",
    "from langchain import PromptTemplate\n",
    "from transformers import AutoModelForCausalLM, AutoTokenizer, pipeline\n",
    "from langchain.docstore.document import Document\n",
    "from llama_parse import LlamaParse\n",
    "from llama_index.core import SimpleDirectoryReader\n",
    "# bring in our LLAMA_CLOUD_API_KEY\n",
    "from dotenv import load_dotenv\n",
    "import asyncio\n",
    "import os\n",
    "import nest_asyncio\n",
    "nest_asyncio.apply()\n",
    "load_dotenv()\n"
   ]
  },
  {
   "cell_type": "code",
   "execution_count": null,
   "metadata": {},
   "outputs": [],
   "source": [
    "# set up llama parser\n",
    "parser = LlamaParse(\n",
    "    result_type=\"markdown\"  # \"markdown\" and \"text\" are available\n",
    ")\n",
    "# use SimpleDirectoryReader to parse our file\n",
    "file_extractor = {\".pdf\": parser}\n",
    "documents = SimpleDirectoryReader(input_files=['files/report.pdf'], file_extractor=file_extractor).load_data()\n",
    "print(documents)"
   ]
  },
  {
   "cell_type": "code",
   "execution_count": null,
   "metadata": {},
   "outputs": [],
   "source": [
    "# create vector db\n",
    "docs = [Document(page_content=documents[i].text,metadata=documents[i].metadata) for i in range(len(documents))]\n",
    "store = LocalFileStore(\"./cache/\")\n",
    "embed_model_id = 'BAAI/bge-small-en-v1.5'\n",
    "core_embeddings_model = HuggingFaceEmbeddings(model_name=embed_model_id)\n",
    "embedder = CacheBackedEmbeddings.from_bytes_store(core_embeddings_model,\n",
    "                                                  store,\n",
    "                                                  namespace=embed_model_id)\n",
    "# Create VectorStore\n",
    "vectorstore = FAISS.from_documents(docs,embedder)"
   ]
  },
  {
   "cell_type": "code",
   "execution_count": null,
   "metadata": {},
   "outputs": [],
   "source": [
    "query = \"what are risk factors?\"\n",
    "embedding_vector = core_embeddings_model.embed_query(query)\n",
    "print(len(embedding_vector))\n",
    "#\n",
    "docs_resp = vectorstore.similarity_search_by_vector(embedding_vector,k=5)\n",
    "#\n",
    "for page in docs_resp:\n",
    "  print(page.page_content)\n",
    "  print(\"\\n\")"
   ]
  },
  {
   "cell_type": "code",
   "execution_count": 5,
   "metadata": {},
   "outputs": [],
   "source": [
    "# Check to see how much time CacheBackedEmbeddings pattern saves\n",
    "query = \"what are risk factors?\"\n",
    "#\n",
    "embedding_vector = core_embeddings_model.embed_query(query)\n",
    "docs_resp = vectorstore.similarity_search_by_vector(embedding_vector,k=5)"
   ]
  },
  {
   "cell_type": "code",
   "execution_count": 6,
   "metadata": {},
   "outputs": [],
   "source": [
    "# Setup Ensemble Retriever (Hybrid Search)\n",
    "bm25_retriever = BM25Retriever.from_documents(docs)\n",
    "bm25_retriever.k=5\n",
    "faiss_retriever = vectorstore.as_retriever(search_kwargs={\"k\":5})\n",
    "ensemble_retriever = EnsembleRetriever(retrievers=[bm25_retriever,faiss_retriever],\n",
    "                                       weights=[0.5,0.5])"
   ]
  },
  {
   "cell_type": "code",
   "execution_count": null,
   "metadata": {},
   "outputs": [],
   "source": [
    "# Download the quantized GPTQ Model\n",
    "model_name_or_path = \"TheBloke/Mistral-7B-Instruct-v0.1-GPTQ\"\n",
    "# To use a different branch, change revision\n",
    "# For example: revision=\"gptq-8bit-32g-actorder_True\"\n",
    "model = AutoModelForCausalLM.from_pretrained(model_name_or_path,\n",
    "                                             device_map=\"auto\",\n",
    "                                             trust_remote_code=True,\n",
    "                                             revision=\"gptq-4bit-32g-actorder_True\")\n",
    "#\n",
    "tokenizer = AutoTokenizer.from_pretrained(model_name_or_path, use_fast=True)"
   ]
  },
  {
   "cell_type": "code",
   "execution_count": null,
   "metadata": {},
   "outputs": [],
   "source": [
    "langchain.llm_cache = InMemoryCache()\n",
    "pipe = pipeline(\n",
    "    \"text-generation\",\n",
    "    model=model,\n",
    "    tokenizer=tokenizer,\n",
    "    max_new_tokens=1024,\n",
    "    do_sample=True,\n",
    "    temperature=0.1,\n",
    "    top_p=0.95,\n",
    "    top_k=40,\n",
    "    repetition_penalty=1.1\n",
    ")\n",
    "\n",
    "from langchain.llms import HuggingFacePipeline\n",
    "llm = HuggingFacePipeline(pipeline=pipe)"
   ]
  },
  {
   "cell_type": "code",
   "execution_count": 17,
   "metadata": {},
   "outputs": [],
   "source": [
    "# prompt template\n",
    "PROMPT_TEMPLATE = '''\n",
    "You are my financial advisor. You are great at providing analyze on financial reports with your knowledge in finances.\n",
    "With the information being provided try to answer the question. \n",
    "If you cant answer the question based on the information either say you cant find an answer or unable to find an answer.\n",
    "So try to understand in depth about the context and answer only based on the information provided. Dont generate irrelevant answers\n",
    "\n",
    "Context: {context}\n",
    "Question: {question}\n",
    "Do provide only helpful answers\n",
    "\n",
    "Helpful answer:\n",
    "'''\n",
    "#\n",
    "input_variables = ['context', 'question']\n",
    "#\n",
    "custom_prompt = PromptTemplate(template=PROMPT_TEMPLATE,\n",
    "                            input_variables=input_variables)"
   ]
  },
  {
   "cell_type": "code",
   "execution_count": 18,
   "metadata": {},
   "outputs": [],
   "source": [
    "# Retrieval chain — without Hybrid Search\n",
    "handler = StdOutCallbackHandler()\n",
    "qa_with_sources_chain = RetrievalQA.from_chain_type(\n",
    "    llm=llm,\n",
    "    chain_type=\"stuff\",\n",
    "    retriever = vectorstore.as_retriever(search_kwargs={\"k\":5}),\n",
    "    verbose=True,\n",
    "    callbacks=[handler],\n",
    "    chain_type_kwargs={\"prompt\": custom_prompt},\n",
    "    return_source_documents=True\n",
    ")"
   ]
  },
  {
   "cell_type": "code",
   "execution_count": 45,
   "metadata": {},
   "outputs": [],
   "source": [
    "def process_output(text):\n",
    "    text = text.split('Helpful answer:')\n",
    "    return text[-1].strip()"
   ]
  },
  {
   "cell_type": "code",
   "execution_count": 52,
   "metadata": {},
   "outputs": [
    {
     "name": "stdout",
     "output_type": "stream",
     "text": [
      "\n",
      "\n",
      "\u001b[1m> Entering new RetrievalQA chain...\u001b[0m\n",
      "\n",
      "\u001b[1m> Finished chain.\u001b[0m\n",
      "Response generated : \n",
      " The revenue for 2023 was $13.8 billion.\n",
      "####################################################\n",
      "Source Documents : \n",
      " # Table of Contents\n",
      "\n",
      "# Revenue Recognition\n",
      "\n",
      "presented net of the taxes that are collected from members and remitted to governmental authorities. The Company is the principal in all its relationships where partners, including consumer electronics (\"CE\") manufacturers, multichannel video programming distributors (\"MVPDs\"), mobile operators and internet service providers (\"ISPs\"), provide access to the service as the Company retains control over service delivery to its members. In circumstances in which the price that the member pays is established by a partner and there is no standalone price for the Netflix service (for instance, in a bundle), the net amount collected from the partner is recognized as revenue.\n",
      "\n",
      "The Company also earns revenue from advertisements presented on its streaming service, consumer products and various other sources. Revenues earned from sources other than monthly membership fees were not material for the years ended December 31, 2023, 2022, and 2021. See Note 2 Revenue Recognition to the consolidated financial statements for further information regarding revenues.\n",
      "\n",
      "# Marketing\n",
      "\n",
      "Marketing expenses consist primarily of advertising expenses and certain payments made to the Company’s partners, including CE manufacturers, MVPDs, mobile operators and ISPs. Marketing expenses also include payroll, stock-based compensation, facilities, and other related expenses for personnel that support the Company's sales and marketing activities. Advertising expenses include promotional activities such as digital and television advertising. Advertising costs are expensed as incurred. Advertising expenses were $1,732 million, $1,586 million and $1,669 million for the years ended December 31, 2023, 2022 and 2021, respectively.\n",
      "\n",
      "# Income Taxes\n",
      "\n",
      "The Company records a provision for income taxes for the anticipated tax consequences of the reported results of operations using the asset and liability method. Deferred income taxes are recognized by applying enacted statutory tax rates applicable to future years to differences between the financial statement carrying amounts of existing assets and liabilities and their respective tax bases as well as net operating loss and tax credit carryforwards. The effect on deferred tax assets and liabilities of a change in tax rates is recognized in income in the period that includes the enactment date. The measurement of deferred tax assets is reduced, if necessary, by a valuation allowance for any tax benefits for which future realization is uncertain. We account for the tax effects of global intangible low tax income as a current period expense.\n",
      "\n",
      "The Company does not recognize certain tax benefits from uncertain tax positions within the provision for income taxes. The Company may recognize a tax benefit only if it is more likely than not the tax position will be sustained on examination by the taxing authorities, based on the technical merits of the position. The tax benefits recognized in the financial statements from such positions are then measured based on the largest benefit that has a greater than 50% likelihood of being realized upon settlement. The Company recognizes interest and penalties related to uncertain tax positions in income tax expense. See Note 10 Income Taxes to the consolidated financial statements for further information regarding income taxes.\n",
      "\n",
      "# Foreign Currency\n",
      "\n",
      "The functional currency for the Company's subsidiaries is determined based on the primary economic environment in which the subsidiary operates. The Company translates the assets and liabilities of its non-U.S. dollar functional currency subsidiaries into U.S. dollars using exchange rates in effect at the end of each period. Revenues and expenses for these subsidiaries are translated using rates that approximate those in effect during the period. Gains and losses from these translations are recognized in cumulative translation adjustment included in \"Accumulated other comprehensive income\" in Stockholders’ equity on the Consolidated Balance Sheets.\n",
      "\n",
      "The Company remeasures monetary assets and liabilities that are not denominated in the functional currency at exchange rates in effect at the end of each period. Gains and losses from these remeasurements are recognized in \"Interest and other income (expense)\" in the Consolidated Statements of Operations. Foreign currency transactions resulted in a loss of $293 million, a gain of $282 million, and a gain of $403 million for the years ended December 31, 2023, 2022, and 2021, respectively. These gains and losses were primarily due to the non-cash remeasurement of our Senior Notes denominated in euros and the remeasurement of cash and content liability positions denominated in currencies other than functional currencies.\n",
      "\n",
      "# Derivative Financial Instruments\n",
      "\n",
      "The Company uses derivative instruments to manage foreign exchange risk related to its ongoing business operations with the primary objective of reducing operating income and cash flow volatility associated with fluctuations in foreign exchange rates.\n",
      "\n",
      "The Company enters into forward contracts to manage the foreign exchange risk on forecasted revenue transactions denominated in currencies other than the U.S. dollar, as well as the foreign exchange risk on forecasted transactions and firm commitments related to the licensing and production of foreign currency-denominated content assets. These forward contracts\n"
     ]
    }
   ],
   "source": [
    "query = \"what is the Revenue for 2023?\"\n",
    "response = qa_with_sources_chain({\"query\":query})\n",
    "print(f\"Response generated : \\n {process_output(response['result'])}\")\n",
    "print('####################################################')\n",
    "print(f\"Source Documents : \\n {response['source_documents'][0].page_content}\")"
   ]
  },
  {
   "cell_type": "code",
   "execution_count": 48,
   "metadata": {},
   "outputs": [],
   "source": [
    "#Setup Retrieval chain — with Hybrid Search\n",
    "handler = StdOutCallbackHandler()\n",
    "qa_with_sources_chain_hb = RetrievalQA.from_chain_type(\n",
    "    llm=llm,\n",
    "    chain_type=\"stuff\",\n",
    "    retriever = ensemble_retriever,\n",
    "    callbacks=[handler],\n",
    "    chain_type_kwargs={\"prompt\": custom_prompt},\n",
    "    return_source_documents=True\n",
    ")"
   ]
  },
  {
   "cell_type": "code",
   "execution_count": 49,
   "metadata": {},
   "outputs": [
    {
     "name": "stdout",
     "output_type": "stream",
     "text": [
      "\n",
      "\n",
      "\u001b[1m> Entering new RetrievalQA chain...\u001b[0m\n",
      "\n",
      "\u001b[1m> Finished chain.\u001b[0m\n",
      "Response generated : \n",
      " The revenue for 2022 was $11.0 billion.\n",
      "####################################################\n",
      "Source Documents : \n",
      " # Table of Contents\n",
      "\n",
      "# Revenue Recognition\n",
      "\n",
      "presented net of the taxes that are collected from members and remitted to governmental authorities. The Company is the principal in all its relationships where partners, including consumer electronics (\"CE\") manufacturers, multichannel video programming distributors (\"MVPDs\"), mobile operators and internet service providers (\"ISPs\"), provide access to the service as the Company retains control over service delivery to its members. In circumstances in which the price that the member pays is established by a partner and there is no standalone price for the Netflix service (for instance, in a bundle), the net amount collected from the partner is recognized as revenue.\n",
      "\n",
      "The Company also earns revenue from advertisements presented on its streaming service, consumer products and various other sources. Revenues earned from sources other than monthly membership fees were not material for the years ended December 31, 2023, 2022, and 2021. See Note 2 Revenue Recognition to the consolidated financial statements for further information regarding revenues.\n",
      "\n",
      "# Marketing\n",
      "\n",
      "Marketing expenses consist primarily of advertising expenses and certain payments made to the Company’s partners, including CE manufacturers, MVPDs, mobile operators and ISPs. Marketing expenses also include payroll, stock-based compensation, facilities, and other related expenses for personnel that support the Company's sales and marketing activities. Advertising expenses include promotional activities such as digital and television advertising. Advertising costs are expensed as incurred. Advertising expenses were $1,732 million, $1,586 million and $1,669 million for the years ended December 31, 2023, 2022 and 2021, respectively.\n",
      "\n",
      "# Income Taxes\n",
      "\n",
      "The Company records a provision for income taxes for the anticipated tax consequences of the reported results of operations using the asset and liability method. Deferred income taxes are recognized by applying enacted statutory tax rates applicable to future years to differences between the financial statement carrying amounts of existing assets and liabilities and their respective tax bases as well as net operating loss and tax credit carryforwards. The effect on deferred tax assets and liabilities of a change in tax rates is recognized in income in the period that includes the enactment date. The measurement of deferred tax assets is reduced, if necessary, by a valuation allowance for any tax benefits for which future realization is uncertain. We account for the tax effects of global intangible low tax income as a current period expense.\n",
      "\n",
      "The Company does not recognize certain tax benefits from uncertain tax positions within the provision for income taxes. The Company may recognize a tax benefit only if it is more likely than not the tax position will be sustained on examination by the taxing authorities, based on the technical merits of the position. The tax benefits recognized in the financial statements from such positions are then measured based on the largest benefit that has a greater than 50% likelihood of being realized upon settlement. The Company recognizes interest and penalties related to uncertain tax positions in income tax expense. See Note 10 Income Taxes to the consolidated financial statements for further information regarding income taxes.\n",
      "\n",
      "# Foreign Currency\n",
      "\n",
      "The functional currency for the Company's subsidiaries is determined based on the primary economic environment in which the subsidiary operates. The Company translates the assets and liabilities of its non-U.S. dollar functional currency subsidiaries into U.S. dollars using exchange rates in effect at the end of each period. Revenues and expenses for these subsidiaries are translated using rates that approximate those in effect during the period. Gains and losses from these translations are recognized in cumulative translation adjustment included in \"Accumulated other comprehensive income\" in Stockholders’ equity on the Consolidated Balance Sheets.\n",
      "\n",
      "The Company remeasures monetary assets and liabilities that are not denominated in the functional currency at exchange rates in effect at the end of each period. Gains and losses from these remeasurements are recognized in \"Interest and other income (expense)\" in the Consolidated Statements of Operations. Foreign currency transactions resulted in a loss of $293 million, a gain of $282 million, and a gain of $403 million for the years ended December 31, 2023, 2022, and 2021, respectively. These gains and losses were primarily due to the non-cash remeasurement of our Senior Notes denominated in euros and the remeasurement of cash and content liability positions denominated in currencies other than functional currencies.\n",
      "\n",
      "# Derivative Financial Instruments\n",
      "\n",
      "The Company uses derivative instruments to manage foreign exchange risk related to its ongoing business operations with the primary objective of reducing operating income and cash flow volatility associated with fluctuations in foreign exchange rates.\n",
      "\n",
      "The Company enters into forward contracts to manage the foreign exchange risk on forecasted revenue transactions denominated in currencies other than the U.S. dollar, as well as the foreign exchange risk on forecasted transactions and firm commitments related to the licensing and production of foreign currency-denominated content assets. These forward contracts\n",
      "CPU times: total: 15.6 ms\n",
      "Wall time: 25.4 ms\n"
     ]
    }
   ],
   "source": [
    "%%time\n",
    "query = \"what is the Revenue for 2022?\"\n",
    "response = qa_with_sources_chain_hb({\"query\":query})\n",
    "print(f\"Response generated : \\n {process_output(response['result'])}\")\n",
    "print('####################################################')\n",
    "print(f\"Source Documents : \\n {response['source_documents'][0].page_content}\")"
   ]
  },
  {
   "cell_type": "code",
   "execution_count": 50,
   "metadata": {},
   "outputs": [
    {
     "name": "stdout",
     "output_type": "stream",
     "text": [
      "\n",
      "\n",
      "\u001b[1m> Entering new RetrievalQA chain...\u001b[0m\n",
      "\n",
      "\u001b[1m> Finished chain.\u001b[0m\n",
      "Response generated : \n",
      " The table shows that the revenue generated from UCAN in 2022 was $1,000,000.\n",
      "####################################################\n",
      "Source Documents : \n",
      " # Table of Contents\n",
      "\n",
      "# Interest expense for the year ended December 31, 2023\n",
      "\n",
      "Interest expense for the year ended December 31, 2023 consisted primarily of $698 million of interest on our Notes. Interest expense for the year ended December 31, 2023 as compared to the year ended December 31, 2022 remained relatively flat.\n",
      "\n",
      "# Interest and Other Income (Expense)\n",
      "\n",
      "Interest and other income (expense) consists primarily of foreign exchange gains and losses on foreign currency denominated balances and interest earned on cash, cash equivalents and short-term investments.\n",
      "\n",
      "|Year Ended December 31,|2023|2022|2021|2023 vs. 2022|\n",
      "|---|---|---|---|---|\n",
      "|Interest and other income (expense)|$ (48,772)|$ 337,310|$ 411,214|$ (386,082) (114%)|\n",
      "|As a percentage of revenues|— %|1 %|1 %| |\n",
      "\n",
      "Interest and other income (expense) decreased primarily due to foreign exchange losses of $293 million for the year ended December 31, 2023 as compared to a gain of $282 million for the year ended December 31, 2022. The foreign exchange loss in the year ended December 31, 2023 was primarily driven by the non-cash loss of $176 million from the remeasurement of our Senior Notes denominated in euros, coupled with the remeasurement of cash and content liability positions in currencies other than the functional currencies. The foreign exchange gain in the year ended December 31, 2022 was primarily driven by the non-cash $353 million gain from the remeasurement of our Senior Notes denominated in euros, partially offset by the remeasurement of cash and content liability positions in currencies other than the functional currencies. The change in foreign currency gains and losses was partially offset by a $221 million increase in interest income earned due to higher average interest rates and investment balances for the year ended December 31, 2023 as compared to the year ended December 31, 2022.\n",
      "\n",
      "# Provision for Income Taxes\n",
      "\n",
      "|Year Ended December 31,|2023|2022|2021|2023 vs. 2022|\n",
      "|---|---|---|---|---|\n",
      "|Provision for income taxes|$ 797,415|$ 772,005|$ 723,875|$ 25,410 3 %|\n",
      "|Effective tax rate|13 %|15 %|12 %| |\n",
      "\n",
      "The decrease in our effective tax rate for the year ended December 31, 2023 as compared to the year ended December 31, 2022 is primarily due to a decrease in foreign taxes. See Note 10 Income Taxes to the consolidated financial statements for further information regarding income taxes.\n",
      "\n",
      "25\n",
      "CPU times: total: 15.6 ms\n",
      "Wall time: 24 ms\n"
     ]
    }
   ],
   "source": [
    "%%time\n",
    "query = \"what is the Revenue on the financial year 2022 from UCAN?\"\n",
    "response = qa_with_sources_chain_hb({\"query\":query})\n",
    "print(f\"Response generated : \\n {process_output(response['result'])}\")\n",
    "print('####################################################')\n",
    "print(f\"Source Documents : \\n {response['source_documents'][0].page_content}\")"
   ]
  },
  {
   "cell_type": "code",
   "execution_count": 55,
   "metadata": {},
   "outputs": [
    {
     "name": "stderr",
     "output_type": "stream",
     "text": [
      "You seem to be using the pipelines sequentially on GPU. In order to maximize efficiency please use a dataset\n",
      "Setting `pad_token_id` to `eos_token_id`:None for open-end generation.\n"
     ]
    },
    {
     "name": "stdout",
     "output_type": "stream",
     "text": [
      "\n",
      "\n",
      "\u001b[1m> Entering new RetrievalQA chain...\u001b[0m\n",
      "\n",
      "\u001b[1m> Finished chain.\u001b[0m\n",
      "Response generated : \n",
      " Netflix is a subscription-based streaming service that offers a wide range of movies, television shows, documentaries, and other original content. The company was founded in 2002 by Reed Hastings and has since grown to become one of the largest streaming platforms in the world, with millions of subscribers in more than 190 countries. Netflix produces and distributes its own original content, as well as licensing content from other studios and networks. The company generates revenue primarily through monthly subscription fees, with additional revenue coming from advertising and merchandise sales.\n",
      "####################################################\n",
      "Source Documents : \n",
      " # Table of Contents\n",
      "\n",
      "teams. We believe this focus helps our employees grow as leaders and well-rounded individuals, and better positions Netflix to operate our global business of providing compelling content to entertain the world.\n",
      "\n",
      "We aim to generally pay our employees at the top of their personal market, and they generally are able to choose the form of their compensation between cash and stock options. This permits employee compensation to be highly personalized and reflective of each employee's individual needs and preferences. We conduct pay equity analyses at least annually, and have adopted practices to help ensure that employees from underrepresented groups are not being underpaid based on gender (globally) and race (U.S.) relative to others doing the same or similar work under comparable circumstances. We aim to rectify any pay gaps that we find through this analysis.\n",
      "\n",
      "We care about the health and well-being of our employees and their families and provide a variety of benefit programs based on region, including health benefits. In the U.S., employees generally receive an annual cash health benefit allowance that they may allocate to medical, dental and vision premiums in a way that makes sense for them. Employees have access to a host of other benefits, including mental health, childcare, family planning and a company match for charitable donations.\n",
      "\n",
      "We believe that our approach to human capital resources has been instrumental in our growth, and has made Netflix a desirable destination for employees.\n",
      "\n",
      "# OTHER INFORMATION\n",
      "\n",
      "We maintain a website at www.netflix.com. The contents of our website are not incorporated in, or otherwise to be regarded as part of, this Annual Report on Form 10-K. We make available, free of charge on our website, access to our Annual Report on Form 10-K, our Quarterly Reports on Form 10-Q, our Current Reports on Form 8-K and amendments to those reports filed or furnished pursuant to Section 13(a) or 15(d) of the Securities Exchange Act of 1934, as amended (the \"Exchange Act\"), as soon as reasonably practicable after we file or furnish them electronically with the Securities and Exchange Commission (\"SEC\").\n",
      "\n",
      "Investors and others should note that we announce material financial and other information to our investors using our investor relations website (ir.netflix.net), SEC filings, press releases, public conference calls and webcasts. We use these channels as well as social media and blogs to communicate with our members and the public about our company, our services and other issues. It is possible that the information we post on social media and blogs could be deemed to be material information. Therefore, we encourage investors, the media, and others interested in our company to review the information we post on the social media channels and blogs listed on our investor relations website.\n",
      "\n",
      "3\n"
     ]
    }
   ],
   "source": [
    "query = \"tell me about NETFLIX\"\n",
    "response = qa_with_sources_chain_hb({\"query\":query})\n",
    "print(f\"Response generated : \\n {process_output(response['result'])}\")\n",
    "print('####################################################')\n",
    "print(f\"Source Documents : \\n {response['source_documents'][0].page_content}\")"
   ]
  },
  {
   "cell_type": "code",
   "execution_count": 54,
   "metadata": {},
   "outputs": [],
   "source": [
    "langchain.llm_cache.clear()"
   ]
  },
  {
   "cell_type": "code",
   "execution_count": null,
   "metadata": {},
   "outputs": [],
   "source": []
  }
 ],
 "metadata": {
  "kernelspec": {
   "display_name": "base",
   "language": "python",
   "name": "python3"
  },
  "language_info": {
   "codemirror_mode": {
    "name": "ipython",
    "version": 3
   },
   "file_extension": ".py",
   "mimetype": "text/x-python",
   "name": "python",
   "nbconvert_exporter": "python",
   "pygments_lexer": "ipython3",
   "version": "3.12.3"
  }
 },
 "nbformat": 4,
 "nbformat_minor": 2
}
