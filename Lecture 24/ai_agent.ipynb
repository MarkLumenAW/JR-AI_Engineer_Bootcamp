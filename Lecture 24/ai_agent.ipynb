{
 "cells": [
  {
   "cell_type": "markdown",
   "metadata": {},
   "source": [
    "## ReAct"
   ]
  },
  {
   "cell_type": "code",
   "execution_count": 6,
   "metadata": {},
   "outputs": [
    {
     "data": {
      "text/plain": [
       "True"
      ]
     },
     "execution_count": 6,
     "metadata": {},
     "output_type": "execute_result"
    }
   ],
   "source": [
    "# ReAct\n",
    "from langchain import hub\n",
    "from langchain.agents import AgentExecutor, create_react_agent\n",
    "from langchain_community.tools.tavily_search import TavilySearchResults\n",
    "from langchain_openai import OpenAI\n",
    "from dotenv import load_dotenv\n",
    "load_dotenv()"
   ]
  },
  {
   "cell_type": "code",
   "execution_count": 43,
   "metadata": {},
   "outputs": [
    {
     "name": "stderr",
     "output_type": "stream",
     "text": [
      "d:\\anaconda3\\envs\\gpu-llm\\Lib\\site-packages\\langsmith\\client.py:256: LangSmithMissingAPIKeyWarning: API key must be provided when using hosted LangSmith API\n",
      "  warnings.warn(\n"
     ]
    },
    {
     "name": "stdout",
     "output_type": "stream",
     "text": [
      "Answer the following questions as best you can. You have access to the following tools:\n",
      "\n",
      "{tools}\n",
      "\n",
      "Use the following format:\n",
      "\n",
      "Question: the input question you must answer\n",
      "Thought: you should always think about what to do\n",
      "Action: the action to take, should be one of [{tool_names}]\n",
      "Action Input: the input to the action\n",
      "Observation: the result of the action\n",
      "... (this Thought/Action/Action Input/Observation can repeat N times)\n",
      "Thought: I now know the final answer\n",
      "Final Answer: the final answer to the original input question\n",
      "\n",
      "Begin!\n",
      "\n",
      "Question: {input}\n",
      "Thought:{agent_scratchpad}\n"
     ]
    }
   ],
   "source": [
    "tools = [TavilySearchResults(max_results=1)]\n",
    "prompt = hub.pull(\"hwchase17/react\")\n",
    "print(prompt.template)"
   ]
  },
  {
   "cell_type": "code",
   "execution_count": 44,
   "metadata": {},
   "outputs": [],
   "source": [
    "llm = OpenAI()\n",
    "# Construct the ReAct agent\n",
    "agent = create_react_agent(llm, tools, prompt)\n",
    "# Create an agent executor by passing in the agent and tools\n",
    "agent_executor = AgentExecutor(agent=agent, tools=tools, verbose=True)"
   ]
  },
  {
   "cell_type": "code",
   "execution_count": 46,
   "metadata": {},
   "outputs": [
    {
     "name": "stdout",
     "output_type": "stream",
     "text": [
      "\n",
      "\n",
      "\u001b[1m> Entering new AgentExecutor chain...\u001b[0m\n",
      "\u001b[32;1m\u001b[1;3m You should think about what words you should use to search for information on Larry Page.\n",
      "Action: tavily_search_results_json\n",
      "Action Input: \"Larry Page\"\u001b[0m\u001b[36;1m\u001b[1;3m[{'url': 'https://www.britannica.com/money/Larry-Page', 'content': 'Larry Page (born March 26, 1973, East Lansing, Michigan, U.S.) is an American computer scientist and entrepreneur who, with Sergey Brin, created the online search engine Google, one of the most popular websites on the Internet.. Page, whose father was a professor of computer science at Michigan State University, received a computer engineering degree from the University of Michigan in 1995 and'}]\u001b[0m\u001b[32;1m\u001b[1;3mYou should read through the search results to gather information.\n",
      "Action: tavily_search_results_json\n",
      "Action Input: \"Larry Page background\"\u001b[0m\u001b[36;1m\u001b[1;3m[{'url': 'https://www.britannica.com/money/Larry-Page', 'content': 'Larry Page is an American computer scientist and entrepreneur who, with Sergey Brin, created the online search engine Google.'}]\u001b[0m\u001b[32;1m\u001b[1;3m You should continue to look through the results for more specific information.\n",
      "Action: tavily_search_results_json\n",
      "Action Input: \"Larry Page education\"\u001b[0m\u001b[36;1m\u001b[1;3m[{'url': 'https://www.britannica.com/money/Larry-Page', 'content': 'Larry Page (born March 26, 1973, East Lansing, Michigan, U.S.) is an American computer scientist and entrepreneur who, with Sergey Brin, created the online search engine Google, one of the most popular websites on the Internet.. Page, whose father was a professor of computer science at Michigan State University, received a computer engineering degree from the University of Michigan in 1995 and'}]\u001b[0m\u001b[32;1m\u001b[1;3m You should continue to search for more specific information on Larry Page's education.\n",
      "Action: tavily_search_results_json\n",
      "Action Input: \"Larry Page education background\"\u001b[0m\u001b[36;1m\u001b[1;3m[{'url': 'https://www.vedantu.com/biography/larry-page', 'content': \"Larry Page's education background is computer science engineering at Stanford University with his schoolmate Sergey Brin. He joined hands with his school friend Sergey Brin and launched the search engine termed Google in 1998. Later, Larry pages became the world's most popular search engine. Later, Page and Brin took charge of Google's new\"}]\u001b[0m\u001b[32;1m\u001b[1;3m Now that I have gathered enough information, I can confidently answer the question.\n",
      "Final Answer: Larry Page is an American computer scientist and entrepreneur, best known for co-founding Google with Sergey Brin in 1998. He received his education in computer science engineering from Stanford University.\u001b[0m\n",
      "\n",
      "\u001b[1m> Finished chain.\u001b[0m\n"
     ]
    },
    {
     "data": {
      "text/plain": [
       "{'input': 'Who is larry page',\n",
       " 'output': 'Larry Page is an American computer scientist and entrepreneur, best known for co-founding Google with Sergey Brin in 1998. He received his education in computer science engineering from Stanford University.'}"
      ]
     },
     "execution_count": 46,
     "metadata": {},
     "output_type": "execute_result"
    }
   ],
   "source": [
    "agent_executor.invoke({\"input\": \"Who is larry page\"})"
   ]
  },
  {
   "cell_type": "markdown",
   "metadata": {},
   "source": [
    "## Function calling"
   ]
  },
  {
   "cell_type": "code",
   "execution_count": 7,
   "metadata": {},
   "outputs": [],
   "source": [
    "import json\n",
    "from openai import OpenAI\n",
    "from tenacity import retry, wait_random_exponential, stop_after_attempt\n",
    "GPT_MODEL = \"gpt-4o\"\n",
    "client = OpenAI()"
   ]
  },
  {
   "cell_type": "code",
   "execution_count": 8,
   "metadata": {},
   "outputs": [],
   "source": [
    "@retry(wait=wait_random_exponential(multiplier=1, max=40), stop=stop_after_attempt(3))\n",
    "def chat_completion_request(messages, tools=None, tool_choice=None, model=GPT_MODEL):\n",
    "    try:\n",
    "        response = client.chat.completions.create(\n",
    "            model=model,\n",
    "            messages=messages,\n",
    "            tools=tools,\n",
    "            tool_choice=tool_choice,\n",
    "        )\n",
    "        return response\n",
    "    except Exception as e:\n",
    "        print(\"Unable to generate ChatCompletion response\")\n",
    "        print(f\"Exception: {e}\")\n",
    "        return e"
   ]
  },
  {
   "cell_type": "code",
   "execution_count": 9,
   "metadata": {},
   "outputs": [
    {
     "name": "stdout",
     "output_type": "stream",
     "text": [
      "Opened database successfully\n"
     ]
    }
   ],
   "source": [
    "import sqlite3\n",
    "\n",
    "conn = sqlite3.connect(\"Chinook.db\")\n",
    "print(\"Opened database successfully\")\n",
    "\n",
    "def get_table_names(conn):\n",
    "    \"\"\"Return a list of table names.\"\"\"\n",
    "    table_names = []\n",
    "    tables = conn.execute(\"SELECT name FROM sqlite_master WHERE type='table';\")\n",
    "    for table in tables.fetchall():\n",
    "        table_names.append(table[0])\n",
    "    return table_names\n",
    "\n",
    "\n",
    "def get_column_names(conn, table_name):\n",
    "    \"\"\"Return a list of column names.\"\"\"\n",
    "    column_names = []\n",
    "    columns = conn.execute(f\"PRAGMA table_info('{table_name}');\").fetchall()\n",
    "    for col in columns:\n",
    "        column_names.append(col[1])\n",
    "    return column_names\n",
    "\n",
    "\n",
    "def get_database_info(conn):\n",
    "    \"\"\"Return a list of dicts containing the table name and columns for each table in the database.\"\"\"\n",
    "    table_dicts = []\n",
    "    for table_name in get_table_names(conn):\n",
    "        columns_names = get_column_names(conn, table_name)\n",
    "        table_dicts.append({\"table_name\": table_name, \"column_names\": columns_names})\n",
    "    return table_dicts"
   ]
  },
  {
   "cell_type": "code",
   "execution_count": 10,
   "metadata": {},
   "outputs": [],
   "source": [
    "database_schema_dict = get_database_info(conn)\n",
    "database_schema_string = \"\\n\".join(\n",
    "    [\n",
    "        f\"Table: {table['table_name']}\\nColumns: {', '.join(table['column_names'])}\"\n",
    "        for table in database_schema_dict\n",
    "    ]\n",
    ")"
   ]
  },
  {
   "cell_type": "code",
   "execution_count": 11,
   "metadata": {},
   "outputs": [
    {
     "name": "stdout",
     "output_type": "stream",
     "text": [
      "Table: Album\n",
      "Columns: AlbumId, Title, ArtistId\n",
      "Table: Artist\n",
      "Columns: ArtistId, Name\n",
      "Table: Customer\n",
      "Columns: CustomerId, FirstName, LastName, Company, Address, City, State, Country, PostalCode, Phone, Fax, Email, SupportRepId\n",
      "Table: Employee\n",
      "Columns: EmployeeId, LastName, FirstName, Title, ReportsTo, BirthDate, HireDate, Address, City, State, Country, PostalCode, Phone, Fax, Email\n",
      "Table: Genre\n",
      "Columns: GenreId, Name\n",
      "Table: Invoice\n",
      "Columns: InvoiceId, CustomerId, InvoiceDate, BillingAddress, BillingCity, BillingState, BillingCountry, BillingPostalCode, Total\n",
      "Table: InvoiceLine\n",
      "Columns: InvoiceLineId, InvoiceId, TrackId, UnitPrice, Quantity\n",
      "Table: MediaType\n",
      "Columns: MediaTypeId, Name\n",
      "Table: Playlist\n",
      "Columns: PlaylistId, Name\n",
      "Table: PlaylistTrack\n",
      "Columns: PlaylistId, TrackId\n",
      "Table: Track\n",
      "Columns: TrackId, Name, AlbumId, MediaTypeId, GenreId, Composer, Milliseconds, Bytes, UnitPrice\n"
     ]
    }
   ],
   "source": [
    "print(database_schema_string)"
   ]
  },
  {
   "cell_type": "code",
   "execution_count": null,
   "metadata": {},
   "outputs": [],
   "source": [
    "tools = [\n",
    "    {\n",
    "        \"type\": \"function\",\n",
    "        \"function\": {\n",
    "            \"name\": \"ask_database\",\n",
    "            \"description\": \"Use this function to answer user questions about music. Input should be a fully formed SQL query.\",\n",
    "            \"parameters\": {\n",
    "                \"type\": \"object\",\n",
    "                \"properties\": {\n",
    "                    \"query\": {\n",
    "                        \"type\": \"string\",\n",
    "                        \"description\": f\"\"\"\n",
    "                                SQL query extracting info to answer the user's question.\n",
    "                                SQL should be written using this database schema:\n",
    "                                {database_schema_string}\n",
    "                                The query should be returned in plain text, not in JSON.\n",
    "                                \"\"\",\n",
    "                    }\n",
    "                },\n",
    "                \"required\": [\"query\"],\n",
    "            },\n",
    "        }\n",
    "    }\n",
    "]\n",
    "# chain of prompts - llm1 -> llm2 -> result\n",
    "# hybrid search = keyword search (BM25) + embedding search"
   ]
  },
  {
   "cell_type": "code",
   "execution_count": 13,
   "metadata": {},
   "outputs": [],
   "source": [
    "def ask_database(conn, query):\n",
    "    \"\"\"Function to query SQLite database with a provided SQL query.\"\"\"\n",
    "    try:\n",
    "        results = str(conn.execute(query).fetchall())\n",
    "    except Exception as e:\n",
    "        results = f\"query failed with error: {e}\"\n",
    "    return results"
   ]
  },
  {
   "cell_type": "code",
   "execution_count": 14,
   "metadata": {},
   "outputs": [
    {
     "name": "stdout",
     "output_type": "stream",
     "text": [
      "ChatCompletionMessage(content=None, refusal=None, role='assistant', audio=None, function_call=None, tool_calls=[ChatCompletionMessageToolCall(id='call_dLy9FdE0soR4reLnSwwamd3y', function=Function(arguments='{\"query\":\"SELECT Album.Title FROM Album INNER JOIN Track ON Album.AlbumId = Track.AlbumId GROUP BY Album.AlbumId ORDER BY COUNT(Track.TrackId) DESC LIMIT 1;\"}', name='ask_database'), type='function')])\n"
     ]
    }
   ],
   "source": [
    "# Step #1: Prompt with content that may result in function call. In this case the model can identify the information requested by the user is potentially available in the database schema passed to the model in Tools description. \n",
    "messages = [{\n",
    "    \"role\":\"user\", \n",
    "    \"content\": \"What is the name of the album with the most tracks?\"\n",
    "}]\n",
    "\n",
    "response = client.chat.completions.create(\n",
    "    model='gpt-4o', \n",
    "    messages=messages, \n",
    "    tools= tools, \n",
    "    tool_choice=\"auto\"\n",
    ")\n",
    "\n",
    "# Append the message to messages list\n",
    "response_message = response.choices[0].message \n",
    "messages.append(response_message)\n",
    "\n",
    "print(response_message)"
   ]
  },
  {
   "cell_type": "code",
   "execution_count": 15,
   "metadata": {},
   "outputs": [
    {
     "data": {
      "text/plain": [
       "[ChatCompletionMessageToolCall(id='call_dLy9FdE0soR4reLnSwwamd3y', function=Function(arguments='{\"query\":\"SELECT Album.Title FROM Album INNER JOIN Track ON Album.AlbumId = Track.AlbumId GROUP BY Album.AlbumId ORDER BY COUNT(Track.TrackId) DESC LIMIT 1;\"}', name='ask_database'), type='function')]"
      ]
     },
     "execution_count": 15,
     "metadata": {},
     "output_type": "execute_result"
    }
   ],
   "source": [
    "tool_calls = response_message.tool_calls\n",
    "tool_calls"
   ]
  },
  {
   "cell_type": "code",
   "execution_count": 16,
   "metadata": {},
   "outputs": [
    {
     "name": "stdout",
     "output_type": "stream",
     "text": [
      "The album with the most tracks is titled \"Greatest Hits.\"\n"
     ]
    }
   ],
   "source": [
    "# Step 2: determine if the response from the model includes a tool call.   \n",
    "tool_calls = response_message.tool_calls\n",
    "if tool_calls:\n",
    "    # If true the model will return the name of the tool / function to call and the argument(s)  \n",
    "    tool_call_id = tool_calls[0].id\n",
    "    tool_function_name = tool_calls[0].function.name\n",
    "    tool_query_string = json.loads(tool_calls[0].function.arguments)['query']\n",
    "\n",
    "    # Step 3: Call the function and retrieve results. Append the results to the messages list.      \n",
    "    if tool_function_name == 'ask_database':\n",
    "        results = ask_database(conn, tool_query_string)\n",
    "        \n",
    "        messages.append({\n",
    "            \"role\":\"tool\", \n",
    "            \"tool_call_id\":tool_call_id, \n",
    "            \"name\": tool_function_name, \n",
    "            \"content\":results\n",
    "        })\n",
    "        \n",
    "        # Step 4: Invoke the chat completions API with the function response appended to the messages list\n",
    "        # Note that messages with role 'tool' must be a response to a preceding message with 'tool_calls'\n",
    "        model_response_with_function_call = client.chat.completions.create(\n",
    "            model=\"gpt-4o\",\n",
    "            messages=messages,\n",
    "        )  # get a new response from the model where it can see the function response\n",
    "        print(model_response_with_function_call.choices[0].message.content)\n",
    "    else: \n",
    "        print(f\"Error: function {tool_function_name} does not exist\")\n",
    "else: \n",
    "    # Model did not identify a function to call, result can be returned to the user \n",
    "    print(response_message.content) "
   ]
  },
  {
   "cell_type": "markdown",
   "metadata": {},
   "source": [
    "## Reflexion Agent"
   ]
  },
  {
   "cell_type": "markdown",
   "metadata": {},
   "source": [
    "Actor (with reflection)\n",
    "\n",
    "The main component of Reflexion is the \"actor\", which is an agent that reflects on its response and re-executes to improve based on self-critique. It's main sub-components include:\n",
    "\n",
    "Tools/tool execution\n",
    "Initial responder: generate an initial response (and self-reflection)\n",
    "Revisor: re-respond (and reflec) based on previous reflections\n",
    "We'll first define the tool execution context."
   ]
  },
  {
   "cell_type": "code",
   "execution_count": null,
   "metadata": {},
   "outputs": [],
   "source": [
    "!pip install -U --quiet langgraph langchain_anthropic tavily-python langchain_community langchain_openai"
   ]
  },
  {
   "cell_type": "code",
   "execution_count": 17,
   "metadata": {},
   "outputs": [],
   "source": [
    "# construct tools\n",
    "from langchain_community.tools.tavily_search import TavilySearchResults\n",
    "from langchain_community.utilities.tavily_search import TavilySearchAPIWrapper\n",
    "from langchain_openai import ChatOpenAI\n",
    "from dotenv import load_dotenv\n",
    "load_dotenv()\n",
    "\n",
    "llm = ChatOpenAI(model='gpt-4o-mini')\n",
    "search = TavilySearchAPIWrapper()\n",
    "tavily_tool = TavilySearchResults(api_wrapper=search, max_results=1)"
   ]
  },
  {
   "cell_type": "markdown",
   "metadata": {},
   "source": [
    "Initial responder\n",
    "\n",
    "Using Pydantic with LangChain"
   ]
  },
  {
   "cell_type": "code",
   "execution_count": 18,
   "metadata": {},
   "outputs": [],
   "source": [
    "from langchain_core.messages import HumanMessage, ToolMessage\n",
    "from langchain_core.output_parsers.openai_tools import PydanticToolsParser\n",
    "from langchain_core.prompts import ChatPromptTemplate, MessagesPlaceholder\n",
    "from pydantic import ValidationError\n",
    "\n",
    "from pydantic import BaseModel, Field\n",
    "\n",
    "\n",
    "class Reflection(BaseModel):\n",
    "    missing: str = Field(description=\"Critique of what is missing.\")\n",
    "    superfluous: str = Field(description=\"Critique of what is superfluous\")\n",
    "\n",
    "\n",
    "class AnswerQuestion(BaseModel):\n",
    "    \"\"\"Answer the question. Provide an answer, reflection, and then follow up with search queries to improve the answer.\"\"\"\n",
    "\n",
    "    answer: str = Field(description=\"~250 word detailed answer to the question.\")\n",
    "    reflection: Reflection = Field(description=\"Your reflection on the initial answer.\")\n",
    "    search_queries: list[str] = Field(\n",
    "        description=\"1-3 search queries for researching improvements to address the critique of your current answer.\"\n",
    "    )\n",
    "\n",
    "\n",
    "\"\"\"\n",
    "you are .....\n",
    "you output must be a json format.\n",
    "output defination:\n",
    "{\n",
    "    \"missing: \"Critique of what is missing.\",\n",
    "    \"superfluous\":\"Critique of what is superfluous\"\n",
    "}\n",
    "\n",
    "example:\n",
    "{\n",
    "    \"missing: \"foo\",\n",
    "    \"superfluous\":\"foo\"\n",
    "}\n",
    "\"\"\"\n",
    "\n",
    "\n",
    "class ResponderWithRetries:\n",
    "    def __init__(self, runnable, validator):\n",
    "        self.runnable = runnable\n",
    "        self.validator = validator\n",
    "\n",
    "    def respond(self, state: dict):\n",
    "        response = []\n",
    "        for attempt in range(3):\n",
    "            response = self.runnable.invoke(\n",
    "                {\"messages\": state[\"messages\"]}, {\"tags\": [f\"attempt:{attempt}\"]}\n",
    "            )\n",
    "            try:\n",
    "                self.validator.invoke(response)\n",
    "                return {\"messages\": response}\n",
    "            except ValidationError as e:\n",
    "                state = state + [\n",
    "                    response,\n",
    "                    ToolMessage(\n",
    "                        content=f\"{repr(e)}\\n\\nPay close attention to the function schema.\\n\\n\"\n",
    "                        + self.validator.schema_json()\n",
    "                        + \" Respond by fixing all validation errors.\",\n",
    "                        tool_call_id=response.tool_calls[0][\"id\"],\n",
    "                    ),\n",
    "                ]\n",
    "        return {\"messages\": response}"
   ]
  },
  {
   "cell_type": "code",
   "execution_count": 19,
   "metadata": {},
   "outputs": [],
   "source": [
    "import datetime\n",
    "\n",
    "actor_prompt_template = ChatPromptTemplate.from_messages(\n",
    "    [\n",
    "        (\n",
    "            \"system\",\n",
    "            \"\"\"You are expert researcher.\n",
    "Current time: {time}\n",
    "\n",
    "1. {first_instruction}\n",
    "2. Reflect and critique your answer. Be severe to maximize improvement.\n",
    "3. Recommend search queries to research information and improve your answer.\"\"\",\n",
    "        ),\n",
    "        MessagesPlaceholder(variable_name=\"messages\"),\n",
    "        (\n",
    "            \"user\",\n",
    "            \"Reflect on the user's original question and the\"\n",
    "            \" actions taken thus far. Respond using the {function_name} function.\",\n",
    "        ),\n",
    "    ]\n",
    ").partial(\n",
    "    time=lambda: datetime.datetime.now().isoformat(),\n",
    ")\n",
    "initial_answer_chain = actor_prompt_template.partial(\n",
    "    first_instruction=\"Provide a detailed ~250 word answer.\",\n",
    "    function_name=AnswerQuestion.__name__,\n",
    ") | llm.bind_tools(tools=[AnswerQuestion])\n",
    "validator = PydanticToolsParser(tools=[AnswerQuestion])\n",
    "\n",
    "first_responder = ResponderWithRetries(\n",
    "    runnable=initial_answer_chain, validator=validator\n",
    ")"
   ]
  },
  {
   "cell_type": "code",
   "execution_count": 20,
   "metadata": {},
   "outputs": [],
   "source": [
    "revise_instructions = \"\"\"Revise your previous answer using the new information.\n",
    "    - You should use the previous critique to add important information to your answer.\n",
    "        - You MUST include numerical citations in your revised answer to ensure it can be verified.\n",
    "        - Add a \"References\" section to the bottom of your answer (which does not count towards the word limit). In form of:\n",
    "            - [1] https://example.com\n",
    "            - [2] https://example.com\n",
    "    - You should use the previous critique to remove superfluous information from your answer and make SURE it is not more than 250 words.\n",
    "\"\"\"\n",
    "\n",
    "\n",
    "# Extend the initial answer schema to include references.\n",
    "# Forcing citation in the model encourages grounded responses\n",
    "class ReviseAnswer(AnswerQuestion):\n",
    "    \"\"\"Revise your original answer to your question. Provide an answer, reflection,\n",
    "\n",
    "    cite your reflection with references, and finally\n",
    "    add search queries to improve the answer.\"\"\"\n",
    "\n",
    "    references: list[str] = Field(\n",
    "        description=\"Citations motivating your updated answer.\"\n",
    "    )\n",
    "\n",
    "\n",
    "revision_chain = actor_prompt_template.partial(\n",
    "    first_instruction=revise_instructions,\n",
    "    function_name=ReviseAnswer.__name__,\n",
    ") | llm.bind_tools(tools=[ReviseAnswer])\n",
    "revision_validator = PydanticToolsParser(tools=[ReviseAnswer])\n",
    "\n",
    "revisor = ResponderWithRetries(runnable=revision_chain, validator=revision_validator)"
   ]
  },
  {
   "cell_type": "code",
   "execution_count": 21,
   "metadata": {},
   "outputs": [],
   "source": [
    "from langchain_core.tools import StructuredTool\n",
    "from langgraph.prebuilt import ToolNode\n",
    "\n",
    "def run_queries(search_queries: list[str], **kwargs):\n",
    "    \"\"\"Run the generated queries.\"\"\"\n",
    "    return tavily_tool.batch([{\"query\": query} for query in search_queries])\n",
    "\n",
    "\n",
    "tool_node = ToolNode(\n",
    "    [\n",
    "        StructuredTool.from_function(run_queries, name=AnswerQuestion.__name__),\n",
    "        StructuredTool.from_function(run_queries, name=ReviseAnswer.__name__),\n",
    "    ]\n",
    ")"
   ]
  },
  {
   "cell_type": "code",
   "execution_count": 24,
   "metadata": {},
   "outputs": [],
   "source": [
    "from typing import Literal\n",
    "\n",
    "from langgraph.graph import END, StateGraph, START\n",
    "from langgraph.graph.message import add_messages\n",
    "from typing import Annotated\n",
    "from typing_extensions import TypedDict\n",
    "\n",
    "\n",
    "class State(TypedDict):\n",
    "    messages: Annotated[list, add_messages]\n",
    "\n",
    "\n",
    "MAX_ITERATIONS = 5\n",
    "builder = StateGraph(State)\n",
    "builder.add_node(\"draft\", first_responder.respond)\n",
    "\n",
    "\n",
    "builder.add_node(\"execute_tools\", tool_node)\n",
    "builder.add_node(\"revise\", revisor.respond)\n",
    "# draft -> execute_tools\n",
    "builder.add_edge(\"draft\", \"execute_tools\")\n",
    "# execute_tools -> revise\n",
    "builder.add_edge(\"execute_tools\", \"revise\")\n",
    "\n",
    "# Define looping logic:\n",
    "\n",
    "\n",
    "def _get_num_iterations(state: list):\n",
    "    i = 0\n",
    "    for m in state[::-1]:\n",
    "        if m.type not in {\"tool\", \"ai\"}:\n",
    "            break\n",
    "        i += 1\n",
    "    return i\n",
    "\n",
    "\n",
    "def event_loop(state: list):\n",
    "    # in our case, we'll just stop after N plans\n",
    "    num_iterations = _get_num_iterations(state[\"messages\"])\n",
    "    if num_iterations > MAX_ITERATIONS:\n",
    "        return END\n",
    "    return \"execute_tools\"\n",
    "\n",
    "\n",
    "# revise -> execute_tools OR end\n",
    "builder.add_conditional_edges(\"revise\", event_loop, [\"execute_tools\", END])\n",
    "builder.add_edge(START, \"draft\")\n",
    "graph = builder.compile()"
   ]
  },
  {
   "cell_type": "code",
   "execution_count": 25,
   "metadata": {},
   "outputs": [
    {
     "data": {
      "image/png": "[encoded data removed]",
      "text/plain": [
       "<IPython.core.display.Image object>"
      ]
     },
     "metadata": {},
     "output_type": "display_data"
    }
   ],
   "source": [
    "from IPython.display import Image, display\n",
    "display(Image(graph.get_graph().draw_mermaid_png()))"
   ]
  },
  {
   "cell_type": "code",
   "execution_count": 26,
   "metadata": {},
   "outputs": [
    {
     "name": "stdout",
     "output_type": "stream",
     "text": [
      "Step 0\n",
      "================================\u001b[1m Human Message \u001b[0m=================================\n",
      "\n",
      "How should we handle the climate crisis?\n",
      "Step 1\n",
      "==================================\u001b[1m Ai Message \u001b[0m==================================\n",
      "Tool Calls:\n",
      "  AnswerQuestion (call_6N74aHkSSvEdFU4WfgjesqPX)\n",
      " Call ID: call_6N74aHkSSvEdFU4WfgjesqPX\n",
      "  Args:\n",
      "    answer: Addressing the climate crisis requires a multi-faceted approach that combines immediate action, long-term strategies, and international cooperation. Firstly, individuals and communities can reduce their carbon footprints by adopting sustainable practices such as using public transportation, reducing waste, and conserving energy. Educational initiatives can also empower citizens to understand the impact of their choices and engage in advocacy.\n",
      "\n",
      "Secondly, governments play a vital role by implementing policies that promote renewable energy sources, like solar and wind, while phasing out fossil fuels. Legislation, such as carbon pricing, and investment in green infrastructure can stimulate economic growth while addressing emissions.\n",
      "\n",
      "Corporations must be held accountable for their environmental impact by adopting sustainable practices and investing in green technologies. Corporate social responsibility and transparency on sustainability goals can encourage consumers to support greener companies.\n",
      "\n",
      "Lastly, international cooperation is crucial. Countries must collaborate on climate initiatives, sharing technology and resources to mitigate global effects. Adhering to agreements like the Paris Accord is essential for setting targets and maintaining accountability.\n",
      "\n",
      "In conclusion, confronting the climate crisis demands collective action at the individual, corporate, governmental, and international levels, focusing on sustainable practices, innovative technologies, and comprehensive policy changes.\n",
      "    reflection: {'missing': 'The answer could benefit from specific examples of successful initiatives, both from individuals and governments, to provide a clearer picture of effective actions. Additionally, a discussion on technological advancements and their role in mitigating climate change was lacking.', 'superfluous': \"The answer includes generalizations that could be deemed too broad, such as 'educational initiatives.' This could be made more specific by detailing what types of educational programs or campaigns are most effective.\"}\n",
      "    search_queries: ['successful climate change initiatives', 'impact of renewable energy policies', 'technological innovations for climate change mitigation']\n",
      "Step 2\n",
      "=================================\u001b[1m Tool Message \u001b[0m=================================\n",
      "Name: AnswerQuestion\n",
      "\n",
      "[[{\"url\": \"https://unfccc.int/news/100-cases-of-successful-climate-action-in-cities\", \"content\": \"As cities around the world look for ways to implement the Paris Declaration and meet the ambition of the UN Climate Change Conference (COP21), C40 is showcasing 100 real world examples of projects and approaches that have already proved successful in our member cities. ... 100 Cases of Successful Climate Action in Cities. 7 March 2016. Resource\"}], [{\"url\": \"https://www.sciencedirect.com/science/article/pii/S0140988324005462\", \"content\": \"In this research, we utilize panel data covering 280 Chinese cities from 2003 to 2019 to assess the impact of renewable energy policy (REP) on the Energy Transition (ET) process, using text mining methods to quantify REP and construct comprehensive indicators of ET: (i) assessing the extent of REP's influence on ET; (ii) identifying the potential channels through which REP affects ET; (iii\"}], [{\"url\": \"https://www.sciencedirect.com/science/article/pii/S2214629623003365\", \"content\": \"Our analysis shows that two key options for rapid decarbonization remain systematically undersampled in models that underpin IPCC scenarios: A) strong growth in intermittent renewables, in particular solar PV, together with electrification of sectors; and B) widespread adoption of efficient end use technologies enabling high service provision at low levels of energy demand. They are members of a growing bottom-up initiative, the Energy Demand Changes Induced by Technological and Social Innovations (EDITS) network (https://iiasa.ac.at/projects/edits), which builds on various research disciplines to facilitate advances in modeling, data compilation, and analysis of the scope and breadth of the potential contributions of demand-side solutions for climate change mitigation, improved wellbeing for all, and sustainability, complementing supply-side solutions for decarbonizing the energy and material systems.\"}]]\n",
      "Step 3\n",
      "==================================\u001b[1m Ai Message \u001b[0m==================================\n",
      "Tool Calls:\n",
      "  ReviseAnswer (call_73k3xOUcH5YRLQznVldxYrst)\n",
      " Call ID: call_73k3xOUcH5YRLQznVldxYrst\n",
      "  Args:\n",
      "    answer: To tackle the climate crisis effectively, a comprehensive strategy is necessary, incorporating actions at individual, governmental, and international levels. Firstly, individuals can significantly reduce their carbon footprints through sustainable practices, like using public transport and adopting energy-efficient appliances. Educational programs that emphasize environmental responsibility can empower citizens to make informed choices and advocate for change.\n",
      "\n",
      "Governments must prioritize policies that promote renewable energy—such as solar, wind, and geothermal—while committing to transition away from fossil fuels. For instance, countries adopting carbon pricing have successfully reduced emissions by encouraging businesses to innovate and minimize their carbon output. Specific success stories can be drawn from cities that have implemented effective climate action plans, demonstrating measurable impacts on emission reductions [1].\n",
      "\n",
      "Corporations must invest in sustainable technologies and uphold transparent accountability regarding their environmental practices. The transition to a circular economy, where waste is minimized and resources are reused, is a growing area that businesses can explore.\n",
      "\n",
      "Lastly, global cooperation is essential. Agreements like the Paris Accord are critical for unified efforts, enabling nations to share resources, technology, and strategies to mitigate climate-related impacts. Countries that work collaboratively can achieve greater resilience against climate change effects [2].\n",
      "\n",
      "In summary, the climate crisis demands concerted efforts across all sectors, focusing on sustainable practices, effective policy implementation, and international solidarity.\n",
      "    reflection: {'missing': 'The revised answer could enhance clarity by incorporating specific examples of successful individual actions and successful governmental initiatives. Furthermore, discussing the role of technological innovations more explicitly would add depth to the argument.', 'superfluous': \"The explanation of the circular economy could be condensed, as it diverts focus from the primary topic. Additionally, the term 'educational programs' is vague and could use more specificity.\"}\n",
      "    search_queries: ['examples of individual climate action', 'successful international climate agreements', 'impact of corporate sustainability initiatives']\n",
      "    references: ['[1] https://unfccc.int/news/100-cases-of-successful-climate-action-in-cities', '[2] https://www.sciencedirect.com/science/article/pii/S2214629623003365']\n",
      "Step 4\n",
      "=================================\u001b[1m Tool Message \u001b[0m=================================\n",
      "Name: ReviseAnswer\n",
      "\n",
      "[[{\"url\": \"https://www.opb.org/article/2023/10/08/individual-actions-you-can-take-to-address-climate-change/\", \"content\": \"For example, in Los Angeles the Department of Water and Power will help you cover the cost of adding a water-monitoring system to your home so you can track usage by the hour vs. the bimonthly\"}], [{\"url\": \"https://pmc.ncbi.nlm.nih.gov/articles/PMC10354701/\", \"content\": \"In 2015, at COP21 of the United Nations Framework Convention on Climate Change, 196 countries adopted the Paris Agreement stating that they would limit global temperatures to well below 2°C above pre-industrial levels and would pursue efforts to limit the temperature increase to 1.5°C above pre-industrial levels. Keywords: climate change, negotiations, UNFCCC, COP26, COP27, Paris Agreement, Kyoto Protocol, net zero, climate emergency, environmental social movements Second, COP26 failed to create the Glasgow Loss and Damage facility, whereby the least developed countries could claim compensation from historically high GHG-emitting countries for damage caused by climate change – agreement was blocked by the US and EU on the conference’s last day. 2022 November 19; [online] Available from: https://www.downtoearth.org.in/news/climate-change/cop27-sameh-shoukry-urges-countries-to-reinforce-unfccc-credibility-as-talks-drag-on-86084.\"}], [{\"url\": \"https://instituteofsustainabilitystudies.com/insights/guides/measuring-the-impact-of-corporate-sustainability-on-brand-reputation-and-growth/\", \"content\": \"Explore how integrating corporate sustainability enhances competitive advantage and meets ESG goals, ensuring long-term value creation.\"}]]\n",
      "Step 5\n",
      "==================================\u001b[1m Ai Message \u001b[0m==================================\n",
      "Tool Calls:\n",
      "  ReviseAnswer (call_GMDhyQ43jrLtemn8VcxXZbXQ)\n",
      " Call ID: call_GMDhyQ43jrLtemn8VcxXZbXQ\n",
      "  Args:\n",
      "    answer: Addressing the climate crisis requires an integrative strategy involving individuals, governments, corporations, and international bodies. On an individual level, actions such as reducing waste, conserving energy, and using public transport can substantially lower carbon footprints. Local programs, like those in Los Angeles that subsidize water monitoring systems, empower residents to actively participate in sustainability [1].\n",
      "\n",
      "Governments play a critical role by adopting policies that promote renewable energy, such as wind and solar, while simultaneously phasing out fossil fuels. Successful frameworks include carbon pricing and legislation that incentivizes green technologies. For instance, countries that have successfully implemented these measures have shown notable emissions reductions [2].\n",
      "\n",
      "Corporations must embrace sustainability as core to their business strategies. Initiatives to integrate corporate social responsibility with sustainable practices not only meet environmental goals but also enhance brand reputation and competitiveness [3].\n",
      "\n",
      "Global cooperation is vital, as exemplified by the Paris Agreement, which unites nations in efforts to limit global warming. Effective climate action requires joint commitments to share technology and resources while holding nations accountable to their targets [2].\n",
      "\n",
      "In conclusion, effectively addressing the climate crisis involves collective action across different sectors, emphasizing sustainable practices, strong policy frameworks, and international collaboration.\n",
      "    reflection: {'missing': 'While the revised answer improves clarity, it could still integrate more specific examples of successful government policies and their measurable impacts on the environment. Also, a clearer quantitative perspective on emissions reductions resulting from these actions would strengthen the argument.', 'superfluous': 'The mention of specific local programs like the one in Los Angeles may not be necessary for a global discussion and could be omitted for brevity.'}\n",
      "    search_queries: ['impact of local sustainability initiatives', 'case studies on effective government climate policies', 'role of corporate sustainability in environmental impact']\n",
      "    references: ['[1] https://www.opb.org/article/2023/10/08/individual-actions-you-can-take-to-address-climate-change/', '[2] https://pmc.ncbi.nlm.nih.gov/articles/PMC10354701/', '[3] https://instituteofsustainabilitystudies.com/insights/guides/measuring-the-impact-of-corporate-sustainability-on-brand-reputation-and-growth/']\n",
      "Step 6\n",
      "=================================\u001b[1m Tool Message \u001b[0m=================================\n",
      "Name: ReviseAnswer\n",
      "\n",
      "[[{\"url\": \"https://www.thegreenmuseblog.com/articles/community-initiatives-amp-global-sustainability-local-actions-for-a-better-world\", \"content\": \"This ripple effect can lead to widespread adoption of sustainable practices, amplifying the impact of a single local action on a global scale. Success stories of local sustainability initiatives are increasingly shared through digital media, conferences, and networks, further extending their reach and influence. A Blueprint for Collective Action\"}], [{\"url\": \"https://www.sciencedaily.com/releases/2024/08/240822142456.htm\", \"content\": \"Using a new OECD database, which represents the most comprehensive inventory of climate policies worldwide to date, and an innovative approach combining machine learning methods with established statistical analyses, the team conducted a detailed impact evaluation of these policies, identifying those measures that achieved large-scale emissions reductions. \\\"While it remains challenging to precisely disentangle the effects of individual measures within a policy mix, our 63 success cases provide systematic insights into effective policy combinations, and show how well-designed policy mixes depend on sectors and the development level of countries,\\\" notes lead author Annika Stechemesser from PIK. The interactive Climate Policy Explorer offers detailed insights into specific countries, sectors, and policy measures.\"}], [{\"url\": \"https://www.investopedia.com/articles/investing/100515/three-pillars-corporate-sustainability.asp\", \"content\": \"\\\"Purpose\\\" has been added in recent years to reflect the interest of a growing number of consumers in a company's organizational purpose and the difference it desires to make in its community (or the larger global community) where social and environmental impacts are concerned.\\n How to Implement Corporate Sustainability\\nIn today's complex and challenging world, corporate sustainability can be a worthwhile goal given the potential benefits for a company, its employees and customers, its shareholders, the greater community, and the planet.\\n Sustainability reports may include information about the company's use of resources, the positive and negative effects of their operations on the environment, and their strategies to become more sustainable in the future.\\n The Bottom Line\\nSustainability encompasses the entire supply chain of a business, requiring accountability at the primary level, through the suppliers, all the way to the retailers.\\n Its goal is to change business practices from those that may damage the environment (locally and globally), negatively affect aspects of society, and obscure a company's financial data and methods of operating into business practices that have positive, long-lasting effects for all concerned in all three areas.\\n\"}]]\n",
      "Step 7\n",
      "==================================\u001b[1m Ai Message \u001b[0m==================================\n",
      "Tool Calls:\n",
      "  ReviseAnswer (call_6Vf0dnx38vCrjxhiJNNtClPC)\n",
      " Call ID: call_6Vf0dnx38vCrjxhiJNNtClPC\n",
      "  Args:\n",
      "    answer: To effectively address the climate crisis, a multi-tiered approach is essential, engaging individuals, governments, corporations, and international bodies. Individuals can contribute significantly by adopting sustainable practices in daily life, such as minimizing waste and conserving energy. Community initiatives, like those showcased in various cities, can inspire collective action, amplifying the impact of local efforts on a larger scale [1].\n",
      "\n",
      "Governments must implement robust policies that foster renewable energy adoption, such as solar and wind, while simultaneously phasing out fossil fuel reliance. These policies should be tailored to local contexts, as evidenced by successful measures that have led to notable emissions reductions across diverse sectors [2].\n",
      "\n",
      "Corporations are encouraged to integrate sustainability into their core operations, which not only meets environmental goals but enhances brand value and attracts socially conscious consumers. Effective sustainability practices involve transparency and accountability throughout the supply chain [3].\n",
      "\n",
      "Lastly, international cooperation is critical. Global agreements like the Paris Agreement provide a framework for nations to collectively limit temperature increases and share technological advancements. This collaborative approach ensures that all parties are working towards a shared goal of climate resilience and sustainability [2].\n",
      "\n",
      "In summary, confronting the climate crisis necessitates unified efforts across all sectors, promoting sustainable practices, innovative policies, and international solidarity.\n",
      "    reflection: {'missing': 'Although the response includes recommendations for various sectors, it would be strengthened by including quantitative examples of emissions reductions resulting from specific policies and local actions. Furthermore, case studies demonstrating successful implementations could enhance the persuasive power of the argument.', 'superfluous': 'The summary reiterates elements discussed previously, making it longer than necessary. It could be made more concise to focus only on unique aspects.'}\n",
      "    search_queries: ['emission reduction case studies', 'successful local sustainability initiatives', 'impact of global climate agreements']\n",
      "    references: ['[1] https://www.thegreenmuseblog.com/articles/community-initiatives-amp-global-sustainability-local-actions-for-a-better-world', '[2] https://www.sciencedaily.com/releases/2024/08/240822142456.htm', '[3] https://www.investopedia.com/articles/investing/100515/three-pillars-corporate-sustainability.asp']\n"
     ]
    }
   ],
   "source": [
    "events = graph.stream(\n",
    "    {\"messages\": [(\"user\", \"How should we handle the climate crisis?\")]},\n",
    "    stream_mode=\"values\",\n",
    ")\n",
    "for i, step in enumerate(events):\n",
    "    print(f\"Step {i}\")\n",
    "    step[\"messages\"][-1].pretty_print()"
   ]
  },
  {
   "cell_type": "code",
   "execution_count": null,
   "metadata": {},
   "outputs": [],
   "source": []
  }
 ],
 "metadata": {
  "kernelspec": {
   "display_name": "gpu-llm",
   "language": "python",
   "name": "python3"
  },
  "language_info": {
   "codemirror_mode": {
    "name": "ipython",
    "version": 3
   },
   "file_extension": ".py",
   "mimetype": "text/x-python",
   "name": "python",
   "nbconvert_exporter": "python",
   "pygments_lexer": "ipython3",
   "version": "3.13.0"
  }
 },
 "nbformat": 4,
 "nbformat_minor": 2
}
