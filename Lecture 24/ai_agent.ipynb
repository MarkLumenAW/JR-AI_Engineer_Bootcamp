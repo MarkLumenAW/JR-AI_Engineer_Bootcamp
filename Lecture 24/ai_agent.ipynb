{
 "cells": [
  {
   "cell_type": "markdown",
   "metadata": {},
   "source": [
    "## ReAct"
   ]
  },
  {
   "cell_type": "code",
   "execution_count": 34,
   "metadata": {},
   "outputs": [
    {
     "data": {
      "text/plain": [
       "True"
      ]
     },
     "execution_count": 34,
     "metadata": {},
     "output_type": "execute_result"
    }
   ],
   "source": [
    "# ReAct\n",
    "from langchain import hub\n",
    "from langchain.agents import AgentExecutor, create_react_agent\n",
    "from langchain_community.tools.tavily_search import TavilySearchResults\n",
    "from langchain_openai import OpenAI\n",
    "from dotenv import load_dotenv\n",
    "load_dotenv()"
   ]
  },
  {
   "cell_type": "code",
   "execution_count": 35,
   "metadata": {},
   "outputs": [
    {
     "name": "stderr",
     "output_type": "stream",
     "text": [
      "d:\\anaconda3\\envs\\gpu-llm\\Lib\\site-packages\\langsmith\\client.py:256: LangSmithMissingAPIKeyWarning: API key must be provided when using hosted LangSmith API\n",
      "  warnings.warn(\n"
     ]
    },
    {
     "name": "stdout",
     "output_type": "stream",
     "text": [
      "Answer the following questions as best you can. You have access to the following tools:\n",
      "\n",
      "{tools}\n",
      "\n",
      "Use the following format:\n",
      "\n",
      "Question: the input question you must answer\n",
      "Thought: you should always think about what to do\n",
      "Action: the action to take, should be one of [{tool_names}]\n",
      "Action Input: the input to the action\n",
      "Observation: the result of the action\n",
      "... (this Thought/Action/Action Input/Observation can repeat N times)\n",
      "Thought: I now know the final answer\n",
      "Final Answer: the final answer to the original input question\n",
      "\n",
      "Begin!\n",
      "\n",
      "Question: {input}\n",
      "Thought:{agent_scratchpad}\n"
     ]
    }
   ],
   "source": [
    "tools = [TavilySearchResults(max_results=1)]\n",
    "prompt = hub.pull(\"hwchase17/react\")\n",
    "print(prompt.template)"
   ]
  },
  {
   "cell_type": "code",
   "execution_count": 36,
   "metadata": {},
   "outputs": [],
   "source": [
    "llm = OpenAI()\n",
    "# Construct the ReAct agent\n",
    "agent = create_react_agent(llm, tools, prompt)\n",
    "# Create an agent executor by passing in the agent and tools\n",
    "agent_executor = AgentExecutor(agent=agent, tools=tools, verbose=True)"
   ]
  },
  {
   "cell_type": "code",
   "execution_count": 37,
   "metadata": {},
   "outputs": [
    {
     "name": "stdout",
     "output_type": "stream",
     "text": [
      "\n",
      "\n",
      "\u001b[1m> Entering new AgentExecutor chain...\u001b[0m\n",
      "\u001b[32;1m\u001b[1;3m LangChain is probably a term used in the tech or linguistics industry.\n",
      "Action: tavily_search_results_json\n",
      "Action Input: LangChain\u001b[0m\u001b[36;1m\u001b[1;3m[{'url': 'https://python.langchain.com/docs/introduction/', 'content': \"How to use tools in a chain How to migrate from legacy LangChain agents to LangGraph How to use chat models to call tools LangChain is a framework for developing applications powered by large language models (LLMs). Development: Build your applications using LangChain's open-source building blocks, components, and third-party integrations. langchain: Chains, agents, and retrieval strategies that make up an application's cognitive architecture. LangServe: Deploy LangChain chains as REST APIs. LangSmith: A developer platform that lets you debug, test, evaluate, and monitor LLM applications. Build stateful, multi-actor applications with LLMs. Integrates smoothly with LangChain, but can be used without it. LangChain is part of a rich ecosystem of tools that integrate with our framework and build on top of it.\"}]\u001b[0m\u001b[32;1m\u001b[1;3m The first result mentions LangChain as a framework for developing applications powered by large language models (LLMs) and lists some of its components and integrations.\n",
      "Action: tavily_search_results_json\n",
      "Action Input: LangChain framework\u001b[0m\u001b[36;1m\u001b[1;3m[{'url': 'https://python.langchain.com/docs/introduction/', 'content': \"How to use tools in a chain How to migrate from legacy LangChain agents to LangGraph How to use chat models to call tools LangChain is a framework for developing applications powered by large language models (LLMs). Development: Build your applications using LangChain's open-source building blocks, components, and third-party integrations. langchain: Chains, agents, and retrieval strategies that make up an application's cognitive architecture. LangServe: Deploy LangChain chains as REST APIs. LangSmith: A developer platform that lets you debug, test, evaluate, and monitor LLM applications. Build stateful, multi-actor applications with LLMs. Integrates smoothly with LangChain, but can be used without it. LangChain is part of a rich ecosystem of tools that integrate with our framework and build on top of it.\"}]\u001b[0m\u001b[32;1m\u001b[1;3m The second result provides a link to the official documentation for LangChain, which could potentially provide more detailed information about the framework.\n",
      "Action: tavily_search_results_json\n",
      "Action Input: LangChain documentation\u001b[0m\u001b[36;1m\u001b[1;3m[{'url': 'https://langchain-doc.readthedocs.io/en/latest/index.html', 'content': '🦜🔗 LangChain 0.0.107\\nGetting Started\\nModules\\nUse Cases\\nReference\\nEcosystem\\nAdditional Resources\\nWelcome to LangChain\\nContents\\nWelcome to LangChain#\\nLarge language models (LLMs) are emerging as a transformative technology, enabling\\ndevelopers to build applications that they previously could not.\\n Question Answering over Notion Database\\n💬 Chatbots\\nDocumentation\\nEnd-to-end Example: Chat-LangChain\\n🤖 Agents\\nDocumentation\\nEnd-to-end Example: GPT+WolframAlpha\\nGetting Started#\\nCheckout the below guide for a walkthrough of how to get started using LangChain to create an Language Model application.\\n Reference Documentation\\nLangChain Ecosystem#\\nGuides for how other companies/products can be used with LangChain\\nLangChain Ecosystem\\nAdditional Resources#\\nAdditional collection of resources we think may be useful as you develop your application!\\n But using these LLMs in isolation is often not enough to\\ncreate a truly powerful app - the real power comes when you are able to\\ncombine them with other sources of computation or knowledge.\\n LangChain provides a standard interface for agents, a selection of agents to choose from, and examples of end to end agents.\\n'}]\u001b[0m\u001b[32;1m\u001b[1;3m The third result is a link to the official LangChain documentation, which includes information on modules, use cases, and a reference guide. It also mentions the use of agents and provides an end-to-end example of using LangChain with other sources of computation or knowledge.\n",
      "Thought: I now know the final answer.\n",
      "Final Answer: LangChain is a framework for developing applications powered by large language models (LLMs), which includes various components, integrations, and agents. Its official documentation provides detailed information on how to use LangChain and its various features.\u001b[0m\n",
      "\n",
      "\u001b[1m> Finished chain.\u001b[0m\n"
     ]
    },
    {
     "data": {
      "text/plain": [
       "{'input': 'what is LangChain?',\n",
       " 'output': 'LangChain is a framework for developing applications powered by large language models (LLMs), which includes various components, integrations, and agents. Its official documentation provides detailed information on how to use LangChain and its various features.'}"
      ]
     },
     "execution_count": 37,
     "metadata": {},
     "output_type": "execute_result"
    }
   ],
   "source": [
    "agent_executor.invoke({\"input\": \"what is LangChain?\"})"
   ]
  },
  {
   "cell_type": "markdown",
   "metadata": {},
   "source": [
    "## Function calling"
   ]
  },
  {
   "cell_type": "code",
   "execution_count": 26,
   "metadata": {},
   "outputs": [],
   "source": [
    "import json\n",
    "from openai import OpenAI\n",
    "from tenacity import retry, wait_random_exponential, stop_after_attempt\n",
    "GPT_MODEL = \"gpt-4o\"\n",
    "client = OpenAI()"
   ]
  },
  {
   "cell_type": "code",
   "execution_count": 27,
   "metadata": {},
   "outputs": [],
   "source": [
    "@retry(wait=wait_random_exponential(multiplier=1, max=40), stop=stop_after_attempt(3))\n",
    "def chat_completion_request(messages, tools=None, tool_choice=None, model=GPT_MODEL):\n",
    "    try:\n",
    "        response = client.chat.completions.create(\n",
    "            model=model,\n",
    "            messages=messages,\n",
    "            tools=tools,\n",
    "            tool_choice=tool_choice,\n",
    "        )\n",
    "        return response\n",
    "    except Exception as e:\n",
    "        print(\"Unable to generate ChatCompletion response\")\n",
    "        print(f\"Exception: {e}\")\n",
    "        return e"
   ]
  },
  {
   "cell_type": "code",
   "execution_count": 28,
   "metadata": {},
   "outputs": [
    {
     "name": "stdout",
     "output_type": "stream",
     "text": [
      "Opened database successfully\n"
     ]
    }
   ],
   "source": [
    "import sqlite3\n",
    "\n",
    "conn = sqlite3.connect(\"Chinook.db\")\n",
    "print(\"Opened database successfully\")\n",
    "\n",
    "def get_table_names(conn):\n",
    "    \"\"\"Return a list of table names.\"\"\"\n",
    "    table_names = []\n",
    "    tables = conn.execute(\"SELECT name FROM sqlite_master WHERE type='table';\")\n",
    "    for table in tables.fetchall():\n",
    "        table_names.append(table[0])\n",
    "    return table_names\n",
    "\n",
    "\n",
    "def get_column_names(conn, table_name):\n",
    "    \"\"\"Return a list of column names.\"\"\"\n",
    "    column_names = []\n",
    "    columns = conn.execute(f\"PRAGMA table_info('{table_name}');\").fetchall()\n",
    "    for col in columns:\n",
    "        column_names.append(col[1])\n",
    "    return column_names\n",
    "\n",
    "\n",
    "def get_database_info(conn):\n",
    "    \"\"\"Return a list of dicts containing the table name and columns for each table in the database.\"\"\"\n",
    "    table_dicts = []\n",
    "    for table_name in get_table_names(conn):\n",
    "        columns_names = get_column_names(conn, table_name)\n",
    "        table_dicts.append({\"table_name\": table_name, \"column_names\": columns_names})\n",
    "    return table_dicts"
   ]
  },
  {
   "cell_type": "code",
   "execution_count": 29,
   "metadata": {},
   "outputs": [],
   "source": [
    "database_schema_dict = get_database_info(conn)\n",
    "database_schema_string = \"\\n\".join(\n",
    "    [\n",
    "        f\"Table: {table['table_name']}\\nColumns: {', '.join(table['column_names'])}\"\n",
    "        for table in database_schema_dict\n",
    "    ]\n",
    ")"
   ]
  },
  {
   "cell_type": "code",
   "execution_count": 30,
   "metadata": {},
   "outputs": [],
   "source": [
    "tools = [\n",
    "    {\n",
    "        \"type\": \"function\",\n",
    "        \"function\": {\n",
    "            \"name\": \"ask_database\",\n",
    "            \"description\": \"Use this function to answer user questions about music. Input should be a fully formed SQL query.\",\n",
    "            \"parameters\": {\n",
    "                \"type\": \"object\",\n",
    "                \"properties\": {\n",
    "                    \"query\": {\n",
    "                        \"type\": \"string\",\n",
    "                        \"description\": f\"\"\"\n",
    "                                SQL query extracting info to answer the user's question.\n",
    "                                SQL should be written using this database schema:\n",
    "                                {database_schema_string}\n",
    "                                The query should be returned in plain text, not in JSON.\n",
    "                                \"\"\",\n",
    "                    }\n",
    "                },\n",
    "                \"required\": [\"query\"],\n",
    "            },\n",
    "        }\n",
    "    }\n",
    "]"
   ]
  },
  {
   "cell_type": "code",
   "execution_count": 31,
   "metadata": {},
   "outputs": [],
   "source": [
    "def ask_database(conn, query):\n",
    "    \"\"\"Function to query SQLite database with a provided SQL query.\"\"\"\n",
    "    try:\n",
    "        results = str(conn.execute(query).fetchall())\n",
    "    except Exception as e:\n",
    "        results = f\"query failed with error: {e}\"\n",
    "    return results"
   ]
  },
  {
   "cell_type": "code",
   "execution_count": 32,
   "metadata": {},
   "outputs": [
    {
     "name": "stdout",
     "output_type": "stream",
     "text": [
      "ChatCompletionMessage(content=None, refusal=None, role='assistant', audio=None, function_call=None, tool_calls=[ChatCompletionMessageToolCall(id='call_JgpDWKuQCCASA0U484pYZEQx', function=Function(arguments='{\"query\":\"SELECT Album.Title, COUNT(Track.TrackId) AS TrackCount FROM Album JOIN Track ON Album.AlbumId = Track.AlbumId GROUP BY Album.AlbumId ORDER BY TrackCount DESC LIMIT 1;\"}', name='ask_database'), type='function')])\n"
     ]
    }
   ],
   "source": [
    "# Step #1: Prompt with content that may result in function call. In this case the model can identify the information requested by the user is potentially available in the database schema passed to the model in Tools description. \n",
    "messages = [{\n",
    "    \"role\":\"user\", \n",
    "    \"content\": \"What is the name of the album with the most tracks?\"\n",
    "}]\n",
    "\n",
    "response = client.chat.completions.create(\n",
    "    model='gpt-4o', \n",
    "    messages=messages, \n",
    "    tools= tools, \n",
    "    tool_choice=\"auto\"\n",
    ")\n",
    "\n",
    "# Append the message to messages list\n",
    "response_message = response.choices[0].message \n",
    "messages.append(response_message)\n",
    "\n",
    "print(response_message)"
   ]
  },
  {
   "cell_type": "code",
   "execution_count": 33,
   "metadata": {},
   "outputs": [
    {
     "name": "stdout",
     "output_type": "stream",
     "text": [
      "The album with the most tracks is \"Greatest Hits,\" which has 57 tracks.\n"
     ]
    }
   ],
   "source": [
    "# Step 2: determine if the response from the model includes a tool call.   \n",
    "tool_calls = response_message.tool_calls\n",
    "if tool_calls:\n",
    "    # If true the model will return the name of the tool / function to call and the argument(s)  \n",
    "    tool_call_id = tool_calls[0].id\n",
    "    tool_function_name = tool_calls[0].function.name\n",
    "    tool_query_string = json.loads(tool_calls[0].function.arguments)['query']\n",
    "\n",
    "    # Step 3: Call the function and retrieve results. Append the results to the messages list.      \n",
    "    if tool_function_name == 'ask_database':\n",
    "        results = ask_database(conn, tool_query_string)\n",
    "        \n",
    "        messages.append({\n",
    "            \"role\":\"tool\", \n",
    "            \"tool_call_id\":tool_call_id, \n",
    "            \"name\": tool_function_name, \n",
    "            \"content\":results\n",
    "        })\n",
    "        \n",
    "        # Step 4: Invoke the chat completions API with the function response appended to the messages list\n",
    "        # Note that messages with role 'tool' must be a response to a preceding message with 'tool_calls'\n",
    "        model_response_with_function_call = client.chat.completions.create(\n",
    "            model=\"gpt-4o\",\n",
    "            messages=messages,\n",
    "        )  # get a new response from the model where it can see the function response\n",
    "        print(model_response_with_function_call.choices[0].message.content)\n",
    "    else: \n",
    "        print(f\"Error: function {tool_function_name} does not exist\")\n",
    "else: \n",
    "    # Model did not identify a function to call, result can be returned to the user \n",
    "    print(response_message.content) "
   ]
  },
  {
   "cell_type": "markdown",
   "metadata": {},
   "source": [
    "## Reflexion Agent"
   ]
  },
  {
   "cell_type": "markdown",
   "metadata": {},
   "source": [
    "Actor (with reflection)\n",
    "\n",
    "The main component of Reflexion is the \"actor\", which is an agent that reflects on its response and re-executes to improve based on self-critique. It's main sub-components include:\n",
    "\n",
    "Tools/tool execution\n",
    "Initial responder: generate an initial response (and self-reflection)\n",
    "Revisor: re-respond (and reflec) based on previous reflections\n",
    "We'll first define the tool execution context."
   ]
  },
  {
   "cell_type": "code",
   "execution_count": null,
   "metadata": {},
   "outputs": [],
   "source": [
    "!pip install -U --quiet langgraph langchain_anthropic tavily-python langchain_community langchain_openai"
   ]
  },
  {
   "cell_type": "code",
   "execution_count": 16,
   "metadata": {},
   "outputs": [],
   "source": [
    "# construct tools\n",
    "from langchain_community.tools.tavily_search import TavilySearchResults\n",
    "from langchain_community.utilities.tavily_search import TavilySearchAPIWrapper\n",
    "from langchain_openai import ChatOpenAI\n",
    "from dotenv import load_dotenv\n",
    "load_dotenv()\n",
    "\n",
    "llm = ChatOpenAI(model='gpt-4o-mini')\n",
    "search = TavilySearchAPIWrapper()\n",
    "tavily_tool = TavilySearchResults(api_wrapper=search, max_results=1)"
   ]
  },
  {
   "cell_type": "markdown",
   "metadata": {},
   "source": [
    "Initial responder\n",
    "\n",
    "Using Pydantic with LangChain"
   ]
  },
  {
   "cell_type": "code",
   "execution_count": 17,
   "metadata": {},
   "outputs": [],
   "source": [
    "from langchain_core.messages import HumanMessage, ToolMessage\n",
    "from langchain_core.output_parsers.openai_tools import PydanticToolsParser\n",
    "from langchain_core.prompts import ChatPromptTemplate, MessagesPlaceholder\n",
    "from pydantic import ValidationError\n",
    "\n",
    "from pydantic import BaseModel, Field\n",
    "\n",
    "\n",
    "class Reflection(BaseModel):\n",
    "    missing: str = Field(description=\"Critique of what is missing.\")\n",
    "    superfluous: str = Field(description=\"Critique of what is superfluous\")\n",
    "\n",
    "\n",
    "class AnswerQuestion(BaseModel):\n",
    "    \"\"\"Answer the question. Provide an answer, reflection, and then follow up with search queries to improve the answer.\"\"\"\n",
    "\n",
    "    answer: str = Field(description=\"~250 word detailed answer to the question.\")\n",
    "    reflection: Reflection = Field(description=\"Your reflection on the initial answer.\")\n",
    "    search_queries: list[str] = Field(\n",
    "        description=\"1-3 search queries for researching improvements to address the critique of your current answer.\"\n",
    "    )\n",
    "\n",
    "\n",
    "class ResponderWithRetries:\n",
    "    def __init__(self, runnable, validator):\n",
    "        self.runnable = runnable\n",
    "        self.validator = validator\n",
    "\n",
    "    def respond(self, state: dict):\n",
    "        response = []\n",
    "        for attempt in range(3):\n",
    "            response = self.runnable.invoke(\n",
    "                {\"messages\": state[\"messages\"]}, {\"tags\": [f\"attempt:{attempt}\"]}\n",
    "            )\n",
    "            try:\n",
    "                self.validator.invoke(response)\n",
    "                return {\"messages\": response}\n",
    "            except ValidationError as e:\n",
    "                state = state + [\n",
    "                    response,\n",
    "                    ToolMessage(\n",
    "                        content=f\"{repr(e)}\\n\\nPay close attention to the function schema.\\n\\n\"\n",
    "                        + self.validator.schema_json()\n",
    "                        + \" Respond by fixing all validation errors.\",\n",
    "                        tool_call_id=response.tool_calls[0][\"id\"],\n",
    "                    ),\n",
    "                ]\n",
    "        return {\"messages\": response}"
   ]
  },
  {
   "cell_type": "code",
   "execution_count": 18,
   "metadata": {},
   "outputs": [],
   "source": [
    "import datetime\n",
    "\n",
    "actor_prompt_template = ChatPromptTemplate.from_messages(\n",
    "    [\n",
    "        (\n",
    "            \"system\",\n",
    "            \"\"\"You are expert researcher.\n",
    "Current time: {time}\n",
    "\n",
    "1. {first_instruction}\n",
    "2. Reflect and critique your answer. Be severe to maximize improvement.\n",
    "3. Recommend search queries to research information and improve your answer.\"\"\",\n",
    "        ),\n",
    "        MessagesPlaceholder(variable_name=\"messages\"),\n",
    "        (\n",
    "            \"user\",\n",
    "            \"Reflect on the user's original question and the\"\n",
    "            \" actions taken thus far. Respond using the {function_name} function.\",\n",
    "        ),\n",
    "    ]\n",
    ").partial(\n",
    "    time=lambda: datetime.datetime.now().isoformat(),\n",
    ")\n",
    "initial_answer_chain = actor_prompt_template.partial(\n",
    "    first_instruction=\"Provide a detailed ~250 word answer.\",\n",
    "    function_name=AnswerQuestion.__name__,\n",
    ") | llm.bind_tools(tools=[AnswerQuestion])\n",
    "validator = PydanticToolsParser(tools=[AnswerQuestion])\n",
    "\n",
    "first_responder = ResponderWithRetries(\n",
    "    runnable=initial_answer_chain, validator=validator\n",
    ")"
   ]
  },
  {
   "cell_type": "code",
   "execution_count": 19,
   "metadata": {},
   "outputs": [],
   "source": [
    "revise_instructions = \"\"\"Revise your previous answer using the new information.\n",
    "    - You should use the previous critique to add important information to your answer.\n",
    "        - You MUST include numerical citations in your revised answer to ensure it can be verified.\n",
    "        - Add a \"References\" section to the bottom of your answer (which does not count towards the word limit). In form of:\n",
    "            - [1] https://example.com\n",
    "            - [2] https://example.com\n",
    "    - You should use the previous critique to remove superfluous information from your answer and make SURE it is not more than 250 words.\n",
    "\"\"\"\n",
    "\n",
    "\n",
    "# Extend the initial answer schema to include references.\n",
    "# Forcing citation in the model encourages grounded responses\n",
    "class ReviseAnswer(AnswerQuestion):\n",
    "    \"\"\"Revise your original answer to your question. Provide an answer, reflection,\n",
    "\n",
    "    cite your reflection with references, and finally\n",
    "    add search queries to improve the answer.\"\"\"\n",
    "\n",
    "    references: list[str] = Field(\n",
    "        description=\"Citations motivating your updated answer.\"\n",
    "    )\n",
    "\n",
    "\n",
    "revision_chain = actor_prompt_template.partial(\n",
    "    first_instruction=revise_instructions,\n",
    "    function_name=ReviseAnswer.__name__,\n",
    ") | llm.bind_tools(tools=[ReviseAnswer])\n",
    "revision_validator = PydanticToolsParser(tools=[ReviseAnswer])\n",
    "\n",
    "revisor = ResponderWithRetries(runnable=revision_chain, validator=revision_validator)"
   ]
  },
  {
   "cell_type": "code",
   "execution_count": 22,
   "metadata": {},
   "outputs": [],
   "source": [
    "from langchain_core.tools import StructuredTool\n",
    "from langgraph.prebuilt import ToolNode\n",
    "\n",
    "def run_queries(search_queries: list[str], **kwargs):\n",
    "    \"\"\"Run the generated queries.\"\"\"\n",
    "    return tavily_tool.batch([{\"query\": query} for query in search_queries])\n",
    "\n",
    "\n",
    "tool_node = ToolNode(\n",
    "    [\n",
    "        StructuredTool.from_function(run_queries, name=AnswerQuestion.__name__),\n",
    "        StructuredTool.from_function(run_queries, name=ReviseAnswer.__name__),\n",
    "    ]\n",
    ")"
   ]
  },
  {
   "cell_type": "code",
   "execution_count": 23,
   "metadata": {},
   "outputs": [],
   "source": [
    "from typing import Literal\n",
    "\n",
    "from langgraph.graph import END, StateGraph, START\n",
    "from langgraph.graph.message import add_messages\n",
    "from typing import Annotated\n",
    "from typing_extensions import TypedDict\n",
    "\n",
    "\n",
    "class State(TypedDict):\n",
    "    messages: Annotated[list, add_messages]\n",
    "\n",
    "\n",
    "MAX_ITERATIONS = 5\n",
    "builder = StateGraph(State)\n",
    "builder.add_node(\"draft\", first_responder.respond)\n",
    "\n",
    "\n",
    "builder.add_node(\"execute_tools\", tool_node)\n",
    "builder.add_node(\"revise\", revisor.respond)\n",
    "# draft -> execute_tools\n",
    "builder.add_edge(\"draft\", \"execute_tools\")\n",
    "# execute_tools -> revise\n",
    "builder.add_edge(\"execute_tools\", \"revise\")\n",
    "\n",
    "# Define looping logic:\n",
    "\n",
    "\n",
    "def _get_num_iterations(state: list):\n",
    "    i = 0\n",
    "    for m in state[::-1]:\n",
    "        if m.type not in {\"tool\", \"ai\"}:\n",
    "            break\n",
    "        i += 1\n",
    "    return i\n",
    "\n",
    "\n",
    "def event_loop(state: list):\n",
    "    # in our case, we'll just stop after N plans\n",
    "    num_iterations = _get_num_iterations(state[\"messages\"])\n",
    "    if num_iterations > MAX_ITERATIONS:\n",
    "        return END\n",
    "    return \"execute_tools\"\n",
    "\n",
    "\n",
    "# revise -> execute_tools OR end\n",
    "builder.add_conditional_edges(\"revise\", event_loop, [\"execute_tools\", END])\n",
    "builder.add_edge(START, \"draft\")\n",
    "graph = builder.compile()"
   ]
  },
  {
   "cell_type": "code",
   "execution_count": 24,
   "metadata": {},
   "outputs": [
    {
     "data": {
      "image/png": "[encoded data removed]",
      "text/plain": [
       "<IPython.core.display.Image object>"
      ]
     },
     "metadata": {},
     "output_type": "display_data"
    }
   ],
   "source": [
    "from IPython.display import Image, display\n",
    "display(Image(graph.get_graph().draw_mermaid_png()))"
   ]
  },
  {
   "cell_type": "code",
   "execution_count": 25,
   "metadata": {},
   "outputs": [
    {
     "name": "stdout",
     "output_type": "stream",
     "text": [
      "Step 0\n",
      "================================\u001b[1m Human Message \u001b[0m=================================\n",
      "\n",
      "How should we handle the climate crisis?\n",
      "Step 1\n",
      "==================================\u001b[1m Ai Message \u001b[0m==================================\n",
      "Tool Calls:\n",
      "  AnswerQuestion (call_72yL4OFN1M2vVIIcvSz12CJd)\n",
      " Call ID: call_72yL4OFN1M2vVIIcvSz12CJd\n",
      "  Args:\n",
      "    answer: Handling the climate crisis requires a multifaceted strategy that encompasses immediate action, long-term planning, and collaboration across various sectors. First, reducing greenhouse gas emissions is critical. This can be achieved by transitioning to renewable energy sources such as solar, wind, and hydro, while phasing out fossil fuels. Governments can implement policies that incentivize clean energy and penalize carbon emissions, thus promoting sustainable practices.\n",
      "\n",
      "Second, reforestation and conservation efforts should be prioritized to enhance carbon sequestration. Protecting existing forests and restoring degraded landscapes can significantly impact our carbon footprint. Additionally, individuals can contribute through practices such as reducing waste, opting for a plant-based diet, and supporting local businesses.\n",
      "\n",
      "Third, investment in technology and research is essential. Innovations in energy efficiency, carbon capture technology, and sustainable agriculture can present transformative solutions. Promoting public transport and electric vehicles will also reduce emissions in urban areas. \n",
      "\n",
      "Finally, climate education and awareness are crucial. Empowering communities with knowledge and resources helps foster grassroots movements that can influence policy change. International cooperation through agreements such as the Paris Accord must continue to enhance global efforts. Overall, a combination of political will, community engagement, technological advancements, and sustainable practices will be crucial to effectively tackle the climate crisis.\n",
      "    reflection: {'missing': 'The response could improve by providing specific examples of successful initiatives or programs that have addressed the climate crisis. Additionally, it should include a discussion about social equity and the roles that different demographics should play in the climate movement.', 'superfluous': 'Some details about government policies may be seen as overly technical or focused more on legislation than on grassroots initiatives that are equally important in climate action.'}\n",
      "    search_queries: ['successful climate crisis initiatives examples', 'social equity in climate action', 'grassroots movements addressing climate change']\n",
      "Step 2\n",
      "=================================\u001b[1m Tool Message \u001b[0m=================================\n",
      "Name: AnswerQuestion\n",
      "\n",
      "[[{\"url\": \"https://unfccc.int/news/100-cases-of-successful-climate-action-in-cities\", \"content\": \"100 Cases of Successful Climate Action in Cities. 7 March 2016. ... C40 is showcasing 100 real world examples of projects and approaches that have already proved successful in our member cities. Eleven new C40 Good Practice Guides offer mayors and urban policymakers roadmaps for tackling climate change, reducing climate risk and encouraging\"}], [{\"url\": \"https://toolkit.climate.gov/topics/built-environment/social-equity\", \"content\": \"U.S. Climate Resilience Toolkit\\nSocial Equity\\nSocial equity, a concept also known as environmental justice, is the fair treatment and involvement of all people and communities—regardless of race, gender, national origin, or income level—in the development, implementation, and enforcement of environmental laws, regulations, and policies.\\n The plan aims to improve the city’s physical infrastructure, economy, and quality of life while reducing its contributions to climate change and enhancing its resilience to climate change impacts.\\n Past and current responses to impacts of short-term climate variability and extreme events can serve as a starting point for reducing vulnerability to longer-term impacts of climate change for all communities.\\n Social capital\\nEnvironmental conditions and the availability of economic opportunities both contribute to a neighborhood’s ability to deal with climate-related events and disasters.\\n Addressing a range of concerns\\nIn places where marginalized groups face increased risk from storms, flooding, or other climate-related events, local groups can raise awareness and nurture grassroots efforts by advocating for improvement across a range of issues.\\n\"}], [{\"url\": \"https://news.fundsforngos.org/2025/01/20/global-grassroots-movements-ignite-change-in-environmental-and-climate-justice/\", \"content\": \"In conclusion, the global grassroots environmental and climate justice movements are not just a trend; they represent a fundamental shift in how communities are addressing the pressing issues of our time. With continued support and collaboration, these movements can lead to lasting change and a more sustainable future for all.\"}]]\n",
      "Step 3\n",
      "==================================\u001b[1m Ai Message \u001b[0m==================================\n",
      "Tool Calls:\n",
      "  ReviseAnswer (call_vTEk39afB95TWyCGjrbSfx5X)\n",
      " Call ID: call_vTEk39afB95TWyCGjrbSfx5X\n",
      "  Args:\n",
      "    answer: To effectively handle the climate crisis, we must adopt a comprehensive approach that includes immediate and long-term strategies. Key actions include:  \n",
      "\n",
      "1. **Reducing Greenhouse Gas Emissions**: Transition to renewable energy sources such as solar, wind, and hydropower, while phasing out fossil fuels. Governments can implement policies that incentivize clean energy usage and penalize carbon emissions.  \n",
      "\n",
      "2. **Enhancing Carbon Sequestration**: Prioritize reforestation and conservation efforts, strengthening carbon farms and protecting existing forests. Initiatives like the Bonn Challenge aim to restore 150 million hectares of deforested and degraded land by 2020, enhancing global carbon sinks.  \n",
      "\n",
      "3. **Promoting Technological Innovation**: Invest in research for energy efficiency and sustainable technologies. Programs like carbon capture and sustainable farming methods can lead to effective climate solutions.  \n",
      "\n",
      "4. **Fostering Climate Education**: Raise awareness within communities to engage them actively in climate action. Empowered communities can advocate for policies that protect the environment. Grassroots movements have demonstrated effective local impacts, as seen in various successful initiatives worldwide (e.g., C40's 100 successful climate actions)  \n",
      "\n",
      "5. **Ensuring Social Equity**: Address the needs of vulnerable demographics through policies and programs, ensuring equitable access to resources and involvement in environmental decision-making.  \n",
      "Overall, a combination of political commitment, technological advancements, community engagement, and social equity principles is crucial to effectively combat the climate crisis.\n",
      "    reflection: {'missing': 'Specific examples from grassroots movements or successful initiatives are included, but it could also mention potential barriers to implementation. A focus on economic implications or transitions for industries affected would provide a more holistic view.', 'superfluous': 'The initial response, while comprehensive, included some technical details that may overwhelm a general audience; the revised answer streamlines this while retaining necessary complexity.'}\n",
      "    search_queries: ['barriers to climate action implementation', 'economic impacts of climate policies', 'successful grassroots climate movements 2025']\n",
      "    references: ['[1] https://unfccc.int/news/100-cases-of-successful-climate-action-in-cities', '[2] https://toolkit.climate.gov/topics/built-environment/social-equity', '[3] https://news.fundsforngos.org/2025/01/20/global-grassroots-movements-ignite-change-in-environmental-and-climate-justice/']\n",
      "Step 4\n",
      "=================================\u001b[1m Tool Message \u001b[0m=================================\n",
      "Name: ReviseAnswer\n",
      "\n",
      "[[{\"url\": \"https://bmcpublichealth.biomedcentral.com/articles/10.1186/s12889-023-16853-8\", \"content\": \"In Fig. 2, the highest ranked barrier to implementation of health/health inequality-related components of climate action plans was insufficient staff and resources. Of the other barriers to implementation, we see that the national political and policy context was the second highest ranked barrier to action.\"}], [{\"url\": \"https://news.exeter.ac.uk/faculty-of-environment-science-and-economy/current-climate-policies-risk-catastrophic-societal-and-economic-impacts/\", \"content\": \"The global economy could face a 50% loss in GDP between 2070 and 2090 unless immediate policy action on risks posed by the climate crisis is taken, warns a new report by the Institute and Faculty of Actuaries (IFoA) and University of Exeter. Current climate targets accept large amounts of largely unrecognised nature and societal risk.\"}], [{\"url\": \"https://blog.ecosia.org/why-theres-reasons-for-climate-hope-in-2025/\", \"content\": \"In times like these, it's easy to overlook the progress and positives that actually did happen: from breakthroughs in green energy and the launch of the first ever tree planting certification to combat greenwashing, to inspiring grassroots movements and the collective power of communities like the Ecosia community - they all made a difference.\"}]]\n",
      "Step 5\n",
      "==================================\u001b[1m Ai Message \u001b[0m==================================\n",
      "Tool Calls:\n",
      "  ReviseAnswer (call_4p8VZTkGdfS0KCfgmBzs6krS)\n",
      " Call ID: call_4p8VZTkGdfS0KCfgmBzs6krS\n",
      "  Args:\n",
      "    answer: Addressing the climate crisis requires a comprehensive approach that combines immediate action, long-term commitments, and community engagement. Here are key strategies:  \n",
      "\n",
      "1. **Reduce Greenhouse Gas Emissions**: Transition from fossil fuels to renewable energy sources—solar, wind, and hydropower—through government policies that promote clean energy while penalizing carbon emissions. Countries like Denmark exemplify successful transitions through aggressive renewable mandates.\n",
      "\n",
      "2. **Enhance Carbon Sequestration**: Focus on reforestation and safeguarding existing forests, which can significantly mitigate climate impacts. The Bonn Challenge, aimed at restoring 150 million hectares of land, is a prime example of global commitment to this goal.\n",
      "\n",
      "3. **Invest in Innovation**: Support research into sustainable technologies and practices, such as carbon capture and sustainable agriculture. Success stories include breakthroughs in energy efficiency that have radically reduced emissions in urban design.\n",
      "\n",
      "4. **Promote Climate Education**: Engage communities through educational initiatives that empower grassroots movements to advocate for sustainable practices. Cities implementing successful climate action plans underline the importance of community participation.\n",
      "\n",
      "5. **Ensure Social Equity**: Address climate action through a lens of equity, ensuring marginalized communities have a voice in environmental policies. This involves both recognition of vulnerabilities and mobilization of resources toward equitable solutions.\n",
      "\n",
      "By integrating these strategies, we can create a resilient framework to combat the climate crisis effectively.\n",
      "    reflection: {'missing': 'The answer should emphasize specific barriers to these actions, such as resource limitations and unfair political contexts. Examples of grassroots movements that have succeeded in influencing policy would enhance it further.', 'superfluous': \"Certain phrases could be simplified; for instance, rather than detailing each energy source's benefits, succinctly mentioning a transition could focus the message better.\"}\n",
      "    search_queries: ['climate crisis mitigation strategies 2025', 'barriers to climate action implementation', 'impact of grassroots movements on climate policy']\n",
      "    references: ['[1] https://unfccc.int/news/100-cases-of-successful-climate-action-in-cities', '[2] https://toolkit.climate.gov/topics/built-environment/social-equity', '[3] https://news.fundsforngos.org/2025/01/20/global-grassroots-movements-ignite-change-in-environmental-and-climate-justice/']\n",
      "Step 6\n",
      "=================================\u001b[1m Tool Message \u001b[0m=================================\n",
      "Name: ReviseAnswer\n",
      "\n",
      "[[{\"url\": \"https://news.un.org/en/story/2024/12/1158446\", \"content\": \"The climate crisis: 5 things to watch out for in 2025 | UN News However, well before the event in November, 2025 will see plenty of opportunities to make important progress on several climate-related issues, from the staggering levels of plastic pollution to financing the shift to a cleaner global economy. At COP29 in Baku, Azerbaijan, a breakthrough of sorts was made, with the adoption of an agreement to triple the amount of climate finance paid to developing countries, to $300 billion per year, by 2035. Vanuatu, a Pacific island state particularly vulnerable to the crisis, asked the court for an advisory position, in order to clarify the obligations of States with regard to climate change, and inform any future judicial proceedings.\"}], [{\"url\": \"https://bmcpublichealth.biomedcentral.com/articles/10.1186/s12889-023-16853-8\", \"content\": \"In Fig. 2, the highest ranked barrier to implementation of health/health inequality-related components of climate action plans was insufficient staff and resources. Of the other barriers to implementation, we see that the national political and policy context was the second highest ranked barrier to action.\"}], [{\"url\": \"https://grassrootsonline.org/learning_hub/grassroots-climate-justice-movements-get-results/\", \"content\": \"Grassroots Climate Justice Movements Get Results\\nGRASSROOTS INTERNATIONAL\\nNEW BRIEFS HIGHLIGHT HOW CLIMATE JUSTICE MOVEMENTS ARE ADVANCING SYSTEMIC AND POLICY CHANGE\\nGrassroots movements are transforming the landscape of climate solutions globally, addressing the multiplicity of root causes and effects of the climate crisis in lasting ways.\\n Contact us\\n\\\"*\\\" indicates required fields\\nMailing Address:\\nGrassroots International, 179 Boylston Street, 4th Floor, Boston, MA 02130, USA\\nPhone: 617-524-1400 | Fax: 617-524-5525\\nFAQ’s\\nDorem ipsum dolor sit amet, consectetur adipiscing elit. As a collaboration among Global Greengrants Fund, Grassroots International, Thousand Currents, and Urgent Action Fund for Women’s Human Rights, The CLIMA Fund funds grassroots climate justice movements led by Indigenous Peoples, women, youth, and peasant farmers addressing the root causes of the climate crisis and cooling the planet.\\n Donate today to support the Martín-Baró Initiative\\nAbout Ignacio Martín-Baró\\nMartín-Baró was: a prominent scholar who studied in Europe, the United States, and Latin America; a prolific writer of numerous books and more than 100 articles; and a gifted speaker. His pioneering work continues to inform how we understand the intersections of healing and social justice and equity today, and his assassination reminds us of the necessity of supporting human rights defenders and protecting them in the face of ongoing attacks.\"}]]\n",
      "Step 7\n",
      "==================================\u001b[1m Ai Message \u001b[0m==================================\n",
      "Tool Calls:\n",
      "  ReviseAnswer (call_bQFxmTEDgH4LcSqEDMTGTGDu)\n",
      " Call ID: call_bQFxmTEDgH4LcSqEDMTGTGDu\n",
      "  Args:\n",
      "    answer: To effectively handle the climate crisis, we must adopt integrated strategies that prioritize immediate action and foster long-term sustainability. Key actions include:  \n",
      "\n",
      "1. **Reduce Greenhouse Gas Emissions**: Transition from fossil fuels to renewable energy sources like solar, wind, and hydro. Countries such as Denmark demonstrate how aggressive policies can successfully increase clean energy adoption.  \n",
      "\n",
      "2. **Enhance Carbon Sequestration**: Invest in reforestation and conservation initiatives to improve carbon capture. The Bonn Challenge aims to restore 150 million hectares of degraded land, illustrating global commitment to carbon management.\n",
      "\n",
      "3. **Promote Technological Innovation**: Increase funding for research into sustainable technologies, carbon capture methods, and energy-efficient practices. Successful programs in places like California showcase the impact of innovation on climate action.\n",
      "\n",
      "4. **Foster Climate Education and Advocacy**: Engage communities in climate education to empower grassroots movements. Successful local initiatives exemplify the impact of community involvement on climate policy, highlighting the effectiveness of grassroots mobilization.\n",
      "\n",
      "5. **Ensure Social Equity**: Address the needs of vulnerable populations in climate policies. Initiatives that consider social equity, such as those led by grassroots movements, show effectiveness in addressing both environmental and social issues.  \n",
      "\n",
      "Implementing these strategies collaboratively will yield the most effective results in combating climate change.\n",
      "    reflection: {'missing': 'The revised answer could further elaborate on specific successful grassroots movements as case studies and highlight the challenges they face, such as insufficient funding or political challenges.', 'superfluous': 'Concise phrasing in points is maintained, but there may still be some redundancy in categorizing strategies that overlap in function or goal.'}\n",
      "    search_queries: ['case studies in grassroots climate action', 'challenges faced by climate advocacy groups', 'impact of social equity in climate strategies']\n",
      "    references: ['[1] https://news.un.org/en/story/2024/12/1158446', '[2] https://bmcpublichealth.biomedcentral.com/articles/10.1186/s12889-023-16853-8', '[3] https://grassrootsonline.org/learning_hub/grassroots-climate-justice-movements-get-results/']\n"
     ]
    }
   ],
   "source": [
    "events = graph.stream(\n",
    "    {\"messages\": [(\"user\", \"How should we handle the climate crisis?\")]},\n",
    "    stream_mode=\"values\",\n",
    ")\n",
    "for i, step in enumerate(events):\n",
    "    print(f\"Step {i}\")\n",
    "    step[\"messages\"][-1].pretty_print()"
   ]
  },
  {
   "cell_type": "code",
   "execution_count": null,
   "metadata": {},
   "outputs": [],
   "source": []
  }
 ],
 "metadata": {
  "kernelspec": {
   "display_name": "gpu-llm",
   "language": "python",
   "name": "python3"
  },
  "language_info": {
   "codemirror_mode": {
    "name": "ipython",
    "version": 3
   },
   "file_extension": ".py",
   "mimetype": "text/x-python",
   "name": "python",
   "nbconvert_exporter": "python",
   "pygments_lexer": "ipython3",
   "version": "3.13.0"
  }
 },
 "nbformat": 4,
 "nbformat_minor": 2
}
